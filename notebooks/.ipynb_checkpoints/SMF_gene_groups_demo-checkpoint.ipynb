{
 "cells": [
  {
   "cell_type": "code",
   "execution_count": 1,
   "id": "c7417f02-cf62-4634-9b9f-79055572b9b0",
   "metadata": {},
   "outputs": [
    {
     "name": "stderr",
     "output_type": "stream",
     "text": [
      "/Users/hanbaek/opt/miniconda3/envs/hlyuenv/lib/python3.9/site-packages/torchvision/io/image.py:13: UserWarning: Failed to load image Python extension: dlopen(/Users/hanbaek/opt/miniconda3/envs/hlyuenv/lib/python3.9/site-packages/torchvision/image.so, 0x0006): Symbol not found: __ZN3c1017RegisterOperatorsD1Ev\n",
      "  Referenced from: <3F789787-FE38-3CE7-8599-064BDD0416EE> /Users/hanbaek/opt/miniconda3/envs/hlyuenv/lib/python3.9/site-packages/torchvision/image.so\n",
      "  Expected in:     <D983C0C6-7C01-3D9C-A96B-07BB20D2CE66> /Users/hanbaek/opt/miniconda3/envs/hlyuenv/lib/python3.9/site-packages/torch/lib/libtorch_cpu.dylib\n",
      "  warn(f\"Failed to load image Python extension: {e}\")\n"
     ]
    }
   ],
   "source": [
    "import numpy as np\n",
    "import pandas as pd\n",
    "import matplotlib.pyplot as plt\n",
    "import seaborn as sns\n",
    "from sklearn.linear_model import LogisticRegression\n",
    "from sklearn.decomposition import PCA, TruncatedSVD\n",
    "from sklearn.model_selection import train_test_split\n",
    "import matplotlib.gridspec as gridspec\n",
    "\n",
    "import sys\n",
    "sys.path.append('../src')  # Go one level up and then into src\n",
    "from SMF import SMF_BCD, SMF_LPGD, rank_r_projection, compute_accuracy_metrics\n",
    "from SMF_torch import smf"
   ]
  },
  {
   "cell_type": "markdown",
   "id": "6983cd56",
   "metadata": {},
   "source": [
    "# Microarray Cancer Data"
   ]
  },
  {
   "cell_type": "markdown",
   "id": "5b6d8d06",
   "metadata": {},
   "source": [
    "## Read data"
   ]
  },
  {
   "cell_type": "code",
   "execution_count": 2,
   "id": "48679e2c",
   "metadata": {},
   "outputs": [
    {
     "name": "stdout",
     "output_type": "stream",
     "text": [
      "X.shape= (51, 54675)\n",
      "y.shape= (51,)\n"
     ]
    }
   ],
   "source": [
    "import pandas as pd\n",
    "import numpy as np\n",
    "from sklearn.model_selection import train_test_split\n",
    "import seaborn as sns\n",
    "sns.set_style(\"whitegrid\")\n",
    "\n",
    "#sys.path.append('../data')  # Go one level up and then into src\n",
    "\n",
    "\"\"\"\n",
    "data = pd.read_csv('../Data/Breast_GSE70947.csv')\n",
    "y = data['type'].values\n",
    "y = [1 if y[i] == 'breast_adenocarcinoma' else 0 for i in range(len(y))]\n",
    "X = data.drop(columns=['samples', 'type']).values\n",
    "X = (X - np.mean(X, axis = 0))/(100*np.std(X, axis = 0)) # normalization\n",
    "print(\"X.shape=\", X.shape)\n",
    "\n",
    "\"\"\"\n",
    "\n",
    "data = pd.read_csv('../Data/Pancreatic_GSE16515.csv')\n",
    "y = data['type'].values\n",
    "y = [1 if y[i] == 'tumoral' else 0 for i in range(len(y))]\n",
    "y = np.array(y)\n",
    "X0 = data.drop(columns=['samples', 'type']).values\n",
    "X = (X0 - np.mean(X0, axis = 0))/(100*np.std(X0, axis = 0)) # normalization\n",
    "#X = 10*X0/np.linalg.norm(X0)\n",
    "print(\"X.shape=\", X.shape) # X.shape = [num of samples, num of features]\n",
    "print(\"y.shape=\", y.shape)\n",
    "\n",
    "\n",
    "X_train, X_test, Y_train, Y_test = train_test_split(X, y, test_size=0.5, random_state=0)\n",
    "X_train, X_test = X_train.T, X_test.T\n",
    "Y_train, Y_test = np.asarray([Y_train]), np.asarray([Y_test])\n",
    "covariate_train, covariate_test = None, None\n",
    "\n",
    "gene_list0 = data.keys()\n",
    "gene_list = gene_list0[2:]"
   ]
  },
  {
   "cell_type": "markdown",
   "id": "f02c78df",
   "metadata": {},
   "source": [
    "## SMF-W"
   ]
  },
  {
   "cell_type": "markdown",
   "id": "21fe09d7",
   "metadata": {},
   "source": [
    "### Use Block Coordiante Descent to fit SMF-W"
   ]
  },
  {
   "cell_type": "code",
   "execution_count": 3,
   "id": "07d0e429",
   "metadata": {},
   "outputs": [
    {
     "name": "stdout",
     "output_type": "stream",
     "text": [
      "initial loading beta [[ 0.36726331 -0.02878745 -0.47538939]]\n"
     ]
    },
    {
     "name": "stderr",
     "output_type": "stream",
     "text": [
      "  1%|▍                                      | 1/100 [00:00<00:10,  9.90it/s]"
     ]
    },
    {
     "name": "stdout",
     "output_type": "stream",
     "text": [
      "--- Training --- [threshold, AUC] =  [0.744, 0.917]\n",
      "--- Iteration 0: Training loss --- [Data, Label, Total] = [94.821818.3, 10.899913.3, 105.721731.3]\n"
     ]
    },
    {
     "name": "stderr",
     "output_type": "stream",
     "text": [
      " 17%|██████▍                               | 17/100 [00:00<00:02, 37.45it/s]"
     ]
    },
    {
     "name": "stdout",
     "output_type": "stream",
     "text": [
      "--- Training --- [threshold, AUC] =  [0.647, 0.931]\n",
      "--- Iteration 10: Training loss --- [Data, Label, Total] = [89.081629.3, 9.558610.3, 98.640239.3]\n"
     ]
    },
    {
     "name": "stderr",
     "output_type": "stream",
     "text": [
      " 25%|█████████▌                            | 25/100 [00:00<00:02, 34.18it/s]"
     ]
    },
    {
     "name": "stdout",
     "output_type": "stream",
     "text": [
      "--- Training --- [threshold, AUC] =  [0.645, 0.944]\n",
      "--- Iteration 20: Training loss --- [Data, Label, Total] = [89.321078.3, 8.971016.3, 98.292095.3]\n"
     ]
    },
    {
     "name": "stderr",
     "output_type": "stream",
     "text": [
      " 34%|████████████▉                         | 34/100 [00:01<00:02, 29.52it/s]"
     ]
    },
    {
     "name": "stdout",
     "output_type": "stream",
     "text": [
      "--- Training --- [threshold, AUC] =  [0.643, 0.944]\n",
      "--- Iteration 30: Training loss --- [Data, Label, Total] = [89.499156.3, 8.572759.3, 98.071914.3]\n"
     ]
    },
    {
     "name": "stderr",
     "output_type": "stream",
     "text": [
      " 46%|█████████████████▍                    | 46/100 [00:01<00:01, 30.19it/s]"
     ]
    },
    {
     "name": "stdout",
     "output_type": "stream",
     "text": [
      "--- Training --- [threshold, AUC] =  [0.567, 0.951]\n",
      "--- Iteration 40: Training loss --- [Data, Label, Total] = [89.630353.3, 8.289710.3, 97.920063.3]\n"
     ]
    },
    {
     "name": "stderr",
     "output_type": "stream",
     "text": [
      " 60%|██████████████████████▊               | 60/100 [00:02<00:01, 27.97it/s]"
     ]
    },
    {
     "name": "stdout",
     "output_type": "stream",
     "text": [
      "--- Training --- [threshold, AUC] =  [0.568, 0.951]\n",
      "--- Iteration 50: Training loss --- [Data, Label, Total] = [89.729798.3, 8.081110.3, 97.810909.3]\n"
     ]
    },
    {
     "name": "stderr",
     "output_type": "stream",
     "text": [
      " 69%|██████████████████████████▏           | 69/100 [00:02<00:00, 33.00it/s]"
     ]
    },
    {
     "name": "stdout",
     "output_type": "stream",
     "text": [
      "--- Training --- [threshold, AUC] =  [0.569, 0.951]\n",
      "--- Iteration 60: Training loss --- [Data, Label, Total] = [89.807278.3, 7.922634.3, 97.729912.3]\n"
     ]
    },
    {
     "name": "stderr",
     "output_type": "stream",
     "text": [
      "\r",
      " 73%|███████████████████████████▋          | 73/100 [00:02<00:01, 25.43it/s]"
     ]
    },
    {
     "name": "stdout",
     "output_type": "stream",
     "text": [
      "--- Training --- [threshold, AUC] =  [0.569, 0.958]\n",
      "--- Iteration 70: Training loss --- [Data, Label, Total] = [89.869037.3, 7.799011.3, 97.668047.3]\n"
     ]
    },
    {
     "name": "stderr",
     "output_type": "stream",
     "text": [
      " 87%|█████████████████████████████████     | 87/100 [00:02<00:00, 34.59it/s]"
     ]
    },
    {
     "name": "stdout",
     "output_type": "stream",
     "text": [
      "--- Training --- [threshold, AUC] =  [0.57, 0.958]\n",
      "--- Iteration 80: Training loss --- [Data, Label, Total] = [89.919136.3, 7.701821.3, 97.620957.3]\n",
      "--- Training --- [threshold, AUC] =  [0.57, 0.958]\n",
      "--- Iteration 90: Training loss --- [Data, Label, Total] = [89.960453.3, 7.621845.3, 97.582299.3]\n"
     ]
    },
    {
     "name": "stderr",
     "output_type": "stream",
     "text": [
      "100%|█████████████████████████████████████| 100/100 [00:03<00:00, 30.52it/s]\n"
     ]
    },
    {
     "name": "stdout",
     "output_type": "stream",
     "text": [
      "!!! pred_type filter\n",
      "--- Training --- [threshold, AUC] =  [0.571, 0.965]\n"
     ]
    }
   ],
   "source": [
    "r = 2 # number of latent gene groups\n",
    "xi = 1 # supervision parameter (weight for the matrix factorization loss)\n",
    "iteration = 100\n",
    "\n",
    "\n",
    "U0, S0, H0, recons = rank_r_projection(X_train, r)\n",
    "W0 = U0 @ np.diag(S0) # initial filters = latent gene groups \n",
    "W0 = [W0, 1-2*np.random.rand(Y_train.shape[0], r + 1)] # initial filters + regression coefficients\n",
    "\n",
    "SMF_BCD_class = SMF_BCD(X=[X_train, Y_train],  # data, label\n",
    "                            X_test=[X_test, Y_test], \n",
    "                            n_components=r,  \n",
    "                            ini_loading=W0,  # Initializatio for [W,W'], W1.shape = [d1, r], W2.shape = [d2, r]\n",
    "                            # ini_loading=[W_true, np.hstack((np.array([[0]]), Beta_true))],\n",
    "                            ini_code = H0,\n",
    "                            xi=xi,  # weight on label reconstruction error\n",
    "                            nonnegativity=[False,False,False]) # nonnegativity constraints on code H, dictionary W[0], reg params W[1]\n",
    "\n",
    "results_dict = SMF_BCD_class.fit(iter=iteration, subsample_size=None,\n",
    "                                    option = \"filter\",\n",
    "                                    if_compute_recons_error=True, if_validate=False)\n",
    "\n",
    "results_dict.update({'method': 'SMF-W'})\n",
    "results_dict.update({'r': r})\n",
    "results_dict.update({'xi': xi})\n",
    "results_dict.update({'nu': None})"
   ]
  },
  {
   "cell_type": "code",
   "execution_count": 4,
   "id": "ae131b12",
   "metadata": {},
   "outputs": [
    {
     "data": {
      "image/png": "[encoded data removed]",
      "text/plain": [
       "<Figure size 400x400 with 1 Axes>"
      ]
     },
     "metadata": {},
     "output_type": "display_data"
    }
   ],
   "source": [
    "import matplotlib.patches as mpatches\n",
    "\n",
    "fig = plt.figure(figsize=[4,4], constrained_layout=False)\n",
    "outer_grid = gridspec.GridSpec(nrows=1, ncols=1, wspace=0, hspace=0)\n",
    "inner_grid = outer_grid[0,0].subgridspec(1, 1, wspace=0, hspace=0)\n",
    "ax = fig.add_subplot(inner_grid[0, 0])\n",
    "colors = [\"r\", \"b\"]\n",
    "\n",
    "W = results_dict.get(\"loading\")[0]\n",
    "Beta = results_dict.get(\"loading\")[1]\n",
    "X_comp = W.T @ X.T\n",
    "\n",
    "for i in np.arange(len(y)):\n",
    "    x1 = X_comp[0,i]\n",
    "    x2 = X_comp[1,i]\n",
    "    label = y[i]\n",
    "    \n",
    "    if label == 0:\n",
    "        ax.scatter(x1, x2, s=20, c=\"b\", alpha=1)\n",
    "    else:\n",
    "        ax.scatter(x1, x2, s=20, c=\"r\", alpha=1)\n",
    "        \n",
    "red_patch = mpatches.Patch(color='red', label='Cancer')\n",
    "blue_patch = mpatches.Patch(color='blue', label='Normal')\n",
    "ax.legend(handles=[red_patch, blue_patch])\n",
    "\n",
    "beta1 = np.round(Beta[0,1], 3)\n",
    "beta2 = np.round(Beta[0,2], 3)\n",
    "ax.set_xlabel(r\"Composite Var. #1 ($\\beta_{1}=$\"+str(beta1) + \")\")\n",
    "ax.set_ylabel(r\"Composite Var. #2 ($\\beta_{2}=$\"+str(beta2) + \")\")\n",
    "\n",
    "\n",
    "\n",
    "plt.savefig(\"plot1\", bbox_inches=\"tight\", dpi=300)"
   ]
  },
  {
   "cell_type": "code",
   "execution_count": 5,
   "id": "66f7822d",
   "metadata": {},
   "outputs": [
    {
     "name": "stdout",
     "output_type": "stream",
     "text": [
      "latent gene groups = \n",
      "[[-0.00248332  0.00675482]\n",
      " [-0.00323248  0.00216407]\n",
      " [-0.00312007  0.00647002]\n",
      " ...\n",
      " [ 0.00327662 -0.00159858]\n",
      " [ 0.0036071  -0.00109095]\n",
      " [ 0.0020849   0.00152207]]\n",
      "regression coefficients associated to the latent gene groups = [-1.04948923  1.75363914]\n",
      "intercept term = 0.8254254058777243\n"
     ]
    }
   ],
   "source": [
    "print(\"latent gene groups = \" + \"\\n\" + \"{}\".format(W))\n",
    "print(\"regression coefficients associated to the latent gene groups = {}\".format(Beta[0,1:]))\n",
    "print(\"intercept term = {}\".format(Beta[0,0]))"
   ]
  },
  {
   "cell_type": "markdown",
   "id": "c264babc",
   "metadata": {},
   "source": [
    "### Use Low-rank Projected Gradient Descent to fit SMF-W"
   ]
  },
  {
   "cell_type": "code",
   "execution_count": 6,
   "id": "4b51f2d5",
   "metadata": {},
   "outputs": [
    {
     "name": "stdout",
     "output_type": "stream",
     "text": [
      "initial loading beta [[ 0.09609713 -0.03189441  0.45323108]]\n"
     ]
    },
    {
     "name": "stderr",
     "output_type": "stream",
     "text": [
      "  5%|█▉                                     | 5/100 [00:15<05:01,  3.17s/it]\n"
     ]
    },
    {
     "ename": "KeyboardInterrupt",
     "evalue": "",
     "output_type": "error",
     "traceback": [
      "\u001b[0;31m---------------------------------------------------------------------------\u001b[0m",
      "\u001b[0;31mKeyboardInterrupt\u001b[0m                         Traceback (most recent call last)",
      "Cell \u001b[0;32mIn [6], line 18\u001b[0m\n\u001b[1;32m      7\u001b[0m W0 \u001b[38;5;241m=\u001b[39m [W0, \u001b[38;5;241m1\u001b[39m\u001b[38;5;241m-\u001b[39m\u001b[38;5;241m2\u001b[39m\u001b[38;5;241m*\u001b[39mnp\u001b[38;5;241m.\u001b[39mrandom\u001b[38;5;241m.\u001b[39mrand(Y_train\u001b[38;5;241m.\u001b[39mshape[\u001b[38;5;241m0\u001b[39m], r \u001b[38;5;241m+\u001b[39m \u001b[38;5;241m1\u001b[39m)] \u001b[38;5;66;03m# initial filters + regression coefficients\u001b[39;00m\n\u001b[1;32m      9\u001b[0m SMF_LPGD_class \u001b[38;5;241m=\u001b[39m SMF_LPGD(X\u001b[38;5;241m=\u001b[39m[X_train, Y_train],  \u001b[38;5;66;03m# data, label\u001b[39;00m\n\u001b[1;32m     10\u001b[0m                         X_test\u001b[38;5;241m=\u001b[39m[X_test, Y_test],\n\u001b[1;32m     11\u001b[0m                         n_components\u001b[38;5;241m=\u001b[39mr,  \u001b[38;5;66;03m# =: r = number of columns in dictionary matrices W, W'\u001b[39;00m\n\u001b[0;32m   (...)\u001b[0m\n\u001b[1;32m     14\u001b[0m                         ini_code \u001b[38;5;241m=\u001b[39m H0,\n\u001b[1;32m     15\u001b[0m                         xi\u001b[38;5;241m=\u001b[39mxi)  \u001b[38;5;66;03m# weight on label reconstruction error\u001b[39;00m\n\u001b[0;32m---> 18\u001b[0m results_dict \u001b[38;5;241m=\u001b[39m \u001b[43mSMF_LPGD_class\u001b[49m\u001b[38;5;241;43m.\u001b[39;49m\u001b[43mfit\u001b[49m\u001b[43m(\u001b[49m\u001b[38;5;28;43miter\u001b[39;49m\u001b[38;5;241;43m=\u001b[39;49m\u001b[43miteration\u001b[49m\u001b[43m,\u001b[49m\u001b[43m \u001b[49m\n\u001b[1;32m     19\u001b[0m \u001b[43m                                    \u001b[49m\u001b[43mbeta\u001b[49m\u001b[43m \u001b[49m\u001b[38;5;241;43m=\u001b[39;49m\u001b[43m \u001b[49m\u001b[38;5;241;43m0\u001b[39;49m\u001b[43m,\u001b[49m\n\u001b[1;32m     20\u001b[0m \u001b[43m                                    \u001b[49m\u001b[43mnu\u001b[49m\u001b[43m \u001b[49m\u001b[38;5;241;43m=\u001b[39;49m\u001b[43m \u001b[49m\u001b[38;5;241;43m0\u001b[39;49m\u001b[43m,\u001b[49m\n\u001b[1;32m     21\u001b[0m \u001b[43m                                    \u001b[49m\u001b[43mstepsize\u001b[49m\u001b[38;5;241;43m=\u001b[39;49m\u001b[38;5;241;43m0.01\u001b[39;49m\u001b[43m,\u001b[49m\n\u001b[1;32m     22\u001b[0m \u001b[43m                                    \u001b[49m\u001b[43mif_compute_recons_error\u001b[49m\u001b[38;5;241;43m=\u001b[39;49m\u001b[38;5;28;43;01mFalse\u001b[39;49;00m\u001b[43m,\u001b[49m\u001b[43m \u001b[49m\u001b[43mif_validate\u001b[49m\u001b[38;5;241;43m=\u001b[39;49m\u001b[38;5;28;43;01mFalse\u001b[39;49;00m\u001b[43m)\u001b[49m\n\u001b[1;32m     24\u001b[0m results_dict\u001b[38;5;241m.\u001b[39mupdate({\u001b[38;5;124m'\u001b[39m\u001b[38;5;124mmethod\u001b[39m\u001b[38;5;124m'\u001b[39m: \u001b[38;5;124m'\u001b[39m\u001b[38;5;124mSDL-W\u001b[39m\u001b[38;5;124m'\u001b[39m})\n\u001b[1;32m     25\u001b[0m results_dict\u001b[38;5;241m.\u001b[39mupdate({\u001b[38;5;124m'\u001b[39m\u001b[38;5;124mr\u001b[39m\u001b[38;5;124m'\u001b[39m: r})\n",
      "File \u001b[0;32m~/Library/CloudStorage/Box-Box/PythonProjects/SMF/notebooks/../src/SMF.py:1166\u001b[0m, in \u001b[0;36mSMF_LPGD.fit\u001b[0;34m(self, iter, beta, nu, dict_update_freq, subsample_size, subsample_ratio_code, stepsize, if_compute_recons_error, update_nuance_param, if_validate, fine_tune_beta, option, prediction_method_list)\u001b[0m\n\u001b[1;32m   1163\u001b[0m stepsize \u001b[38;5;241m=\u001b[39m stepsize \u001b[38;5;241m*\u001b[39m (\u001b[38;5;28mfloat\u001b[39m(step \u001b[38;5;241m+\u001b[39m \u001b[38;5;241m10\u001b[39m)) \u001b[38;5;241m*\u001b[39m\u001b[38;5;241m*\u001b[39m (\u001b[38;5;241m-\u001b[39mbeta)\n\u001b[1;32m   1164\u001b[0m \u001b[38;5;66;03m#print('search_radius', search_radius)\u001b[39;00m\n\u001b[1;32m   1165\u001b[0m \u001b[38;5;66;03m# search_radius = 0.0001\u001b[39;00m\n\u001b[0;32m-> 1166\u001b[0m A, B, Beta1 \u001b[38;5;241m=\u001b[39m \u001b[38;5;28;43mself\u001b[39;49m\u001b[38;5;241;43m.\u001b[39;49m\u001b[43mstep_SVP\u001b[49m\u001b[43m(\u001b[49m\u001b[43mA\u001b[49m\u001b[43m,\u001b[49m\u001b[43m \u001b[49m\u001b[43mB\u001b[49m\u001b[43m,\u001b[49m\u001b[43m \u001b[49m\u001b[43mBeta1\u001b[49m\u001b[43m,\u001b[49m\u001b[43m \u001b[49m\u001b[43mtau\u001b[49m\u001b[38;5;241;43m=\u001b[39;49m\u001b[43mstepsize\u001b[49m\u001b[43m,\u001b[49m\u001b[43m \u001b[49m\u001b[43mnu\u001b[49m\u001b[38;5;241;43m=\u001b[39;49m\u001b[38;5;241;43m0\u001b[39;49m\u001b[43m,\u001b[49m\u001b[43m \u001b[49m\u001b[43moption\u001b[49m\u001b[38;5;241;43m=\u001b[39;49m\u001b[43moption\u001b[49m\u001b[43m)\u001b[49m\n\u001b[1;32m   1168\u001b[0m \u001b[38;5;66;03m#print('Beta1', Beta1)\u001b[39;00m\n\u001b[1;32m   1169\u001b[0m end \u001b[38;5;241m=\u001b[39m time\u001b[38;5;241m.\u001b[39mtime()\n",
      "File \u001b[0;32m~/Library/CloudStorage/Box-Box/PythonProjects/SMF/notebooks/../src/SMF.py:1063\u001b[0m, in \u001b[0;36mSMF_LPGD.step_SVP\u001b[0;34m(self, A, B, Beta1, tau, nu, option)\u001b[0m\n\u001b[1;32m   1061\u001b[0m \u001b[38;5;28;01mif\u001b[39;00m option \u001b[38;5;241m==\u001b[39m \u001b[38;5;124m'\u001b[39m\u001b[38;5;124mfilter\u001b[39m\u001b[38;5;124m'\u001b[39m:\n\u001b[1;32m   1062\u001b[0m     C \u001b[38;5;241m=\u001b[39m np\u001b[38;5;241m.\u001b[39mhstack((A, B))\n\u001b[0;32m-> 1063\u001b[0m     u0, s0, v0, recons \u001b[38;5;241m=\u001b[39m \u001b[43mrank_r_projection\u001b[49m\u001b[43m(\u001b[49m\u001b[43mC\u001b[49m\u001b[43m,\u001b[49m\u001b[43m \u001b[49m\u001b[43mrank\u001b[49m\u001b[38;5;241;43m=\u001b[39;49m\u001b[38;5;28;43mself\u001b[39;49m\u001b[38;5;241;43m.\u001b[39;49m\u001b[43mn_components\u001b[49m\u001b[43m)\u001b[49m\n\u001b[1;32m   1064\u001b[0m     A_new \u001b[38;5;241m=\u001b[39m recons[:, :A\u001b[38;5;241m.\u001b[39mshape[\u001b[38;5;241m1\u001b[39m]]\n\u001b[1;32m   1065\u001b[0m     B_new \u001b[38;5;241m=\u001b[39m recons[:, A\u001b[38;5;241m.\u001b[39mshape[\u001b[38;5;241m1\u001b[39m]:]\n",
      "File \u001b[0;32m~/Library/CloudStorage/Box-Box/PythonProjects/SMF/notebooks/../src/SMF.py:1615\u001b[0m, in \u001b[0;36mrank_r_projection\u001b[0;34m(X, rank)\u001b[0m\n\u001b[1;32m   1613\u001b[0m \u001b[38;5;28;01mdef\u001b[39;00m \u001b[38;5;21mrank_r_projection\u001b[39m(X, rank):\n\u001b[1;32m   1614\u001b[0m     svd \u001b[38;5;241m=\u001b[39m TruncatedSVD(n_components\u001b[38;5;241m=\u001b[39mrank, n_iter\u001b[38;5;241m=\u001b[39m\u001b[38;5;241m7\u001b[39m, random_state\u001b[38;5;241m=\u001b[39m\u001b[38;5;241m42\u001b[39m)\n\u001b[0;32m-> 1615\u001b[0m     X_reduced \u001b[38;5;241m=\u001b[39m \u001b[43msvd\u001b[49m\u001b[38;5;241;43m.\u001b[39;49m\u001b[43mfit_transform\u001b[49m\u001b[43m(\u001b[49m\u001b[43mX\u001b[49m\u001b[43m)\u001b[49m \u001b[38;5;66;03m#\u001b[39;00m\n\u001b[1;32m   1616\u001b[0m     u \u001b[38;5;241m=\u001b[39m X_reduced\u001b[38;5;241m.\u001b[39mdot(np\u001b[38;5;241m.\u001b[39mlinalg\u001b[38;5;241m.\u001b[39minv(np\u001b[38;5;241m.\u001b[39mdiag(svd\u001b[38;5;241m.\u001b[39msingular_values_)))\n\u001b[1;32m   1617\u001b[0m     s \u001b[38;5;241m=\u001b[39m svd\u001b[38;5;241m.\u001b[39msingular_values_\n",
      "File \u001b[0;32m~/opt/miniconda3/envs/hlyuenv/lib/python3.9/site-packages/sklearn/utils/_set_output.py:316\u001b[0m, in \u001b[0;36m_wrap_method_output.<locals>.wrapped\u001b[0;34m(self, X, *args, **kwargs)\u001b[0m\n\u001b[1;32m    314\u001b[0m \u001b[38;5;129m@wraps\u001b[39m(f)\n\u001b[1;32m    315\u001b[0m \u001b[38;5;28;01mdef\u001b[39;00m \u001b[38;5;21mwrapped\u001b[39m(\u001b[38;5;28mself\u001b[39m, X, \u001b[38;5;241m*\u001b[39margs, \u001b[38;5;241m*\u001b[39m\u001b[38;5;241m*\u001b[39mkwargs):\n\u001b[0;32m--> 316\u001b[0m     data_to_wrap \u001b[38;5;241m=\u001b[39m \u001b[43mf\u001b[49m\u001b[43m(\u001b[49m\u001b[38;5;28;43mself\u001b[39;49m\u001b[43m,\u001b[49m\u001b[43m \u001b[49m\u001b[43mX\u001b[49m\u001b[43m,\u001b[49m\u001b[43m \u001b[49m\u001b[38;5;241;43m*\u001b[39;49m\u001b[43margs\u001b[49m\u001b[43m,\u001b[49m\u001b[43m \u001b[49m\u001b[38;5;241;43m*\u001b[39;49m\u001b[38;5;241;43m*\u001b[39;49m\u001b[43mkwargs\u001b[49m\u001b[43m)\u001b[49m\n\u001b[1;32m    317\u001b[0m     \u001b[38;5;28;01mif\u001b[39;00m \u001b[38;5;28misinstance\u001b[39m(data_to_wrap, \u001b[38;5;28mtuple\u001b[39m):\n\u001b[1;32m    318\u001b[0m         \u001b[38;5;66;03m# only wrap the first output for cross decomposition\u001b[39;00m\n\u001b[1;32m    319\u001b[0m         return_tuple \u001b[38;5;241m=\u001b[39m (\n\u001b[1;32m    320\u001b[0m             _wrap_data_with_container(method, data_to_wrap[\u001b[38;5;241m0\u001b[39m], X, \u001b[38;5;28mself\u001b[39m),\n\u001b[1;32m    321\u001b[0m             \u001b[38;5;241m*\u001b[39mdata_to_wrap[\u001b[38;5;241m1\u001b[39m:],\n\u001b[1;32m    322\u001b[0m         )\n",
      "File \u001b[0;32m~/opt/miniconda3/envs/hlyuenv/lib/python3.9/site-packages/sklearn/base.py:1473\u001b[0m, in \u001b[0;36m_fit_context.<locals>.decorator.<locals>.wrapper\u001b[0;34m(estimator, *args, **kwargs)\u001b[0m\n\u001b[1;32m   1466\u001b[0m     estimator\u001b[38;5;241m.\u001b[39m_validate_params()\n\u001b[1;32m   1468\u001b[0m \u001b[38;5;28;01mwith\u001b[39;00m config_context(\n\u001b[1;32m   1469\u001b[0m     skip_parameter_validation\u001b[38;5;241m=\u001b[39m(\n\u001b[1;32m   1470\u001b[0m         prefer_skip_nested_validation \u001b[38;5;129;01mor\u001b[39;00m global_skip_validation\n\u001b[1;32m   1471\u001b[0m     )\n\u001b[1;32m   1472\u001b[0m ):\n\u001b[0;32m-> 1473\u001b[0m     \u001b[38;5;28;01mreturn\u001b[39;00m \u001b[43mfit_method\u001b[49m\u001b[43m(\u001b[49m\u001b[43mestimator\u001b[49m\u001b[43m,\u001b[49m\u001b[43m \u001b[49m\u001b[38;5;241;43m*\u001b[39;49m\u001b[43margs\u001b[49m\u001b[43m,\u001b[49m\u001b[43m \u001b[49m\u001b[38;5;241;43m*\u001b[39;49m\u001b[38;5;241;43m*\u001b[39;49m\u001b[43mkwargs\u001b[49m\u001b[43m)\u001b[49m\n",
      "File \u001b[0;32m~/opt/miniconda3/envs/hlyuenv/lib/python3.9/site-packages/sklearn/decomposition/_truncated_svd.py:246\u001b[0m, in \u001b[0;36mTruncatedSVD.fit_transform\u001b[0;34m(self, X, y)\u001b[0m\n\u001b[1;32m    241\u001b[0m     \u001b[38;5;28;01mif\u001b[39;00m \u001b[38;5;28mself\u001b[39m\u001b[38;5;241m.\u001b[39mn_components \u001b[38;5;241m>\u001b[39m X\u001b[38;5;241m.\u001b[39mshape[\u001b[38;5;241m1\u001b[39m]:\n\u001b[1;32m    242\u001b[0m         \u001b[38;5;28;01mraise\u001b[39;00m \u001b[38;5;167;01mValueError\u001b[39;00m(\n\u001b[1;32m    243\u001b[0m             \u001b[38;5;124mf\u001b[39m\u001b[38;5;124m\"\u001b[39m\u001b[38;5;124mn_components(\u001b[39m\u001b[38;5;132;01m{\u001b[39;00m\u001b[38;5;28mself\u001b[39m\u001b[38;5;241m.\u001b[39mn_components\u001b[38;5;132;01m}\u001b[39;00m\u001b[38;5;124m) must be <=\u001b[39m\u001b[38;5;124m\"\u001b[39m\n\u001b[1;32m    244\u001b[0m             \u001b[38;5;124mf\u001b[39m\u001b[38;5;124m\"\u001b[39m\u001b[38;5;124m n_features(\u001b[39m\u001b[38;5;132;01m{\u001b[39;00mX\u001b[38;5;241m.\u001b[39mshape[\u001b[38;5;241m1\u001b[39m]\u001b[38;5;132;01m}\u001b[39;00m\u001b[38;5;124m).\u001b[39m\u001b[38;5;124m\"\u001b[39m\n\u001b[1;32m    245\u001b[0m         )\n\u001b[0;32m--> 246\u001b[0m     U, Sigma, VT \u001b[38;5;241m=\u001b[39m \u001b[43mrandomized_svd\u001b[49m\u001b[43m(\u001b[49m\n\u001b[1;32m    247\u001b[0m \u001b[43m        \u001b[49m\u001b[43mX\u001b[49m\u001b[43m,\u001b[49m\n\u001b[1;32m    248\u001b[0m \u001b[43m        \u001b[49m\u001b[38;5;28;43mself\u001b[39;49m\u001b[38;5;241;43m.\u001b[39;49m\u001b[43mn_components\u001b[49m\u001b[43m,\u001b[49m\n\u001b[1;32m    249\u001b[0m \u001b[43m        \u001b[49m\u001b[43mn_iter\u001b[49m\u001b[38;5;241;43m=\u001b[39;49m\u001b[38;5;28;43mself\u001b[39;49m\u001b[38;5;241;43m.\u001b[39;49m\u001b[43mn_iter\u001b[49m\u001b[43m,\u001b[49m\n\u001b[1;32m    250\u001b[0m \u001b[43m        \u001b[49m\u001b[43mn_oversamples\u001b[49m\u001b[38;5;241;43m=\u001b[39;49m\u001b[38;5;28;43mself\u001b[39;49m\u001b[38;5;241;43m.\u001b[39;49m\u001b[43mn_oversamples\u001b[49m\u001b[43m,\u001b[49m\n\u001b[1;32m    251\u001b[0m \u001b[43m        \u001b[49m\u001b[43mpower_iteration_normalizer\u001b[49m\u001b[38;5;241;43m=\u001b[39;49m\u001b[38;5;28;43mself\u001b[39;49m\u001b[38;5;241;43m.\u001b[39;49m\u001b[43mpower_iteration_normalizer\u001b[49m\u001b[43m,\u001b[49m\n\u001b[1;32m    252\u001b[0m \u001b[43m        \u001b[49m\u001b[43mrandom_state\u001b[49m\u001b[38;5;241;43m=\u001b[39;49m\u001b[43mrandom_state\u001b[49m\u001b[43m,\u001b[49m\n\u001b[1;32m    253\u001b[0m \u001b[43m        \u001b[49m\u001b[43mflip_sign\u001b[49m\u001b[38;5;241;43m=\u001b[39;49m\u001b[38;5;28;43;01mFalse\u001b[39;49;00m\u001b[43m,\u001b[49m\n\u001b[1;32m    254\u001b[0m \u001b[43m    \u001b[49m\u001b[43m)\u001b[49m\n\u001b[1;32m    255\u001b[0m     U, VT \u001b[38;5;241m=\u001b[39m svd_flip(U, VT, u_based_decision\u001b[38;5;241m=\u001b[39m\u001b[38;5;28;01mFalse\u001b[39;00m)\n\u001b[1;32m    257\u001b[0m \u001b[38;5;28mself\u001b[39m\u001b[38;5;241m.\u001b[39mcomponents_ \u001b[38;5;241m=\u001b[39m VT\n",
      "File \u001b[0;32m~/opt/miniconda3/envs/hlyuenv/lib/python3.9/site-packages/sklearn/utils/_param_validation.py:186\u001b[0m, in \u001b[0;36mvalidate_params.<locals>.decorator.<locals>.wrapper\u001b[0;34m(*args, **kwargs)\u001b[0m\n\u001b[1;32m    184\u001b[0m global_skip_validation \u001b[38;5;241m=\u001b[39m get_config()[\u001b[38;5;124m\"\u001b[39m\u001b[38;5;124mskip_parameter_validation\u001b[39m\u001b[38;5;124m\"\u001b[39m]\n\u001b[1;32m    185\u001b[0m \u001b[38;5;28;01mif\u001b[39;00m global_skip_validation:\n\u001b[0;32m--> 186\u001b[0m     \u001b[38;5;28;01mreturn\u001b[39;00m \u001b[43mfunc\u001b[49m\u001b[43m(\u001b[49m\u001b[38;5;241;43m*\u001b[39;49m\u001b[43margs\u001b[49m\u001b[43m,\u001b[49m\u001b[43m \u001b[49m\u001b[38;5;241;43m*\u001b[39;49m\u001b[38;5;241;43m*\u001b[39;49m\u001b[43mkwargs\u001b[49m\u001b[43m)\u001b[49m\n\u001b[1;32m    188\u001b[0m func_sig \u001b[38;5;241m=\u001b[39m signature(func)\n\u001b[1;32m    190\u001b[0m \u001b[38;5;66;03m# Map *args/**kwargs to the function signature\u001b[39;00m\n",
      "File \u001b[0;32m~/opt/miniconda3/envs/hlyuenv/lib/python3.9/site-packages/sklearn/utils/extmath.py:529\u001b[0m, in \u001b[0;36mrandomized_svd\u001b[0;34m(M, n_components, n_oversamples, n_iter, power_iteration_normalizer, transpose, flip_sign, random_state, svd_lapack_driver)\u001b[0m\n\u001b[1;32m    520\u001b[0m Q \u001b[38;5;241m=\u001b[39m randomized_range_finder(\n\u001b[1;32m    521\u001b[0m     M,\n\u001b[1;32m    522\u001b[0m     size\u001b[38;5;241m=\u001b[39mn_random,\n\u001b[0;32m   (...)\u001b[0m\n\u001b[1;32m    525\u001b[0m     random_state\u001b[38;5;241m=\u001b[39mrandom_state,\n\u001b[1;32m    526\u001b[0m )\n\u001b[1;32m    528\u001b[0m \u001b[38;5;66;03m# project M to the (k + p) dimensional space using the basis vectors\u001b[39;00m\n\u001b[0;32m--> 529\u001b[0m B \u001b[38;5;241m=\u001b[39m \u001b[43mQ\u001b[49m\u001b[38;5;241;43m.\u001b[39;49m\u001b[43mT\u001b[49m\u001b[43m \u001b[49m\u001b[38;5;241;43m@\u001b[39;49m\u001b[43m \u001b[49m\u001b[43mM\u001b[49m\n\u001b[1;32m    531\u001b[0m \u001b[38;5;66;03m# compute the SVD on the thin matrix: (k + p) wide\u001b[39;00m\n\u001b[1;32m    532\u001b[0m xp, is_array_api_compliant \u001b[38;5;241m=\u001b[39m get_namespace(B)\n",
      "\u001b[0;31mKeyboardInterrupt\u001b[0m: "
     ]
    }
   ],
   "source": [
    "r = 2 # number of latent gene groups\n",
    "xi = 1 # supervision parameter (weight for the matrix factorization loss)\n",
    "iteration = 100\n",
    "\n",
    "U0, S0, H0, recons = rank_r_projection(X_train, r)\n",
    "W0 = U0 @ np.diag(S0) # initial filters = latent gene groups \n",
    "W0 = [W0, 1-2*np.random.rand(Y_train.shape[0], r + 1)] # initial filters + regression coefficients\n",
    "\n",
    "SMF_LPGD_class = SMF_LPGD(X=[X_train, Y_train],  # data, label\n",
    "                        X_test=[X_test, Y_test],\n",
    "                        n_components=r,  # =: r = number of columns in dictionary matrices W, W'\n",
    "                        ini_loading = W0,  # Initializatio for [W,W'], W1.shape = [d1, r], W2.shape = [d2, r]\n",
    "                        # ini_loading=[W_true, np.hstack((np.array([[0]]), Beta_true))],\n",
    "                        ini_code = H0,\n",
    "                        xi=xi)  # weight on label reconstruction error\n",
    "                       \n",
    "\n",
    "results_dict = SMF_LPGD_class.fit(iter=iteration, \n",
    "                                    beta = 0,\n",
    "                                    nu = 0,\n",
    "                                    stepsize=0.01,\n",
    "                                    if_compute_recons_error=False, if_validate=False)\n",
    "\n",
    "results_dict.update({'method': 'SDL-W'})\n",
    "results_dict.update({'r': r})\n",
    "results_dict.update({'xi': xi})\n",
    "results_dict.update({'nu': None})"
   ]
  },
  {
   "cell_type": "code",
   "execution_count": 7,
   "id": "ccebd0f4",
   "metadata": {},
   "outputs": [
    {
     "data": {
      "image/png": "[encoded data removed]",
      "text/plain": [
       "<Figure size 400x400 with 1 Axes>"
      ]
     },
     "metadata": {},
     "output_type": "display_data"
    }
   ],
   "source": [
    "import matplotlib.patches as mpatches\n",
    "\n",
    "fig = plt.figure(figsize=[4,4], constrained_layout=False)\n",
    "outer_grid = gridspec.GridSpec(nrows=1, ncols=1, wspace=0, hspace=0)\n",
    "inner_grid = outer_grid[0,0].subgridspec(1, 1, wspace=0, hspace=0)\n",
    "ax = fig.add_subplot(inner_grid[0, 0])\n",
    "colors = [\"r\", \"b\"]\n",
    "\n",
    "W = results_dict.get(\"loading\")[0]\n",
    "Beta = results_dict.get(\"loading\")[1]\n",
    "X_comp = W.T @ X.T\n",
    "\n",
    "for i in np.arange(len(y)):\n",
    "    x1 = X_comp[0,i]\n",
    "    x2 = X_comp[1,i]\n",
    "    label = y[i]\n",
    "    \n",
    "    if label == 0:\n",
    "        ax.scatter(x1, x2, s=20, c=\"b\", alpha=1)\n",
    "    else:\n",
    "        ax.scatter(x1, x2, s=20, c=\"r\", alpha=1)\n",
    "        \n",
    "red_patch = mpatches.Patch(color='red', label='Cancer')\n",
    "blue_patch = mpatches.Patch(color='blue', label='Normal')\n",
    "ax.legend(handles=[red_patch, blue_patch])\n",
    "\n",
    "beta1 = np.round(Beta[0,1], 3)\n",
    "beta2 = np.round(Beta[0,2], 3)\n",
    "ax.set_xlabel(r\"Composite Var. #1 ($\\beta_{1}=$\"+str(beta1) + \")\")\n",
    "ax.set_ylabel(r\"Composite Var. #2 ($\\beta_{2}=$\"+str(beta2) + \")\")\n",
    "\n",
    "\n",
    "\n",
    "plt.savefig(\"plot2\", bbox_inches=\"tight\", dpi=300)"
   ]
  },
  {
   "cell_type": "code",
   "execution_count": null,
   "id": "99afc953",
   "metadata": {},
   "outputs": [],
   "source": [
    "print(\"latent gene groups = \" + \"\\n\" + \"{}\".format(W))\n",
    "print(\"regression coefficients associated to the latent gene groups = {}\".format(Beta[0,1:]))\n",
    "print(\"intercept term = {}\".format(Beta[0,0]))"
   ]
  },
  {
   "cell_type": "markdown",
   "id": "d1de7c4e",
   "metadata": {},
   "source": [
    "### Use Pytorch implementation of BCD to fit SMF-W (utilizes GPU if possible)"
   ]
  },
  {
   "cell_type": "code",
   "execution_count": 9,
   "id": "f8853735",
   "metadata": {},
   "outputs": [
    {
     "name": "stdout",
     "output_type": "stream",
     "text": [
      "y_train's ndim: 1\n",
      "Epoch [10/100],Loss_Classification: 0.3347 Loss_MF: 0.0001\n",
      "mythre= 0.5\n",
      "mythre_test= 0.6894242\n",
      "Test accuracy = 0.923, Test AUC = 0.95\n",
      "--- Training --- [threshold, AUC] =  [0.695, 0.965]\n",
      "--- Iteration 9: Training loss --- [Data, Label, Total] = [85.213438.3, 8.077986.3, 93.291423.3]\n",
      "Epoch [20/100],Loss_Classification: 0.2677 Loss_MF: 0.0001\n",
      "mythre= 0.6949449\n",
      "mythre_test= 0.60700977\n",
      "Test accuracy = 0.808, Test AUC = 0.958\n",
      "--- Training --- [threshold, AUC] =  [0.745, 0.986]\n",
      "--- Iteration 19: Training loss --- [Data, Label, Total] = [85.706563.3, 6.622600.3, 92.329163.3]\n",
      "Epoch [30/100],Loss_Classification: 0.2506 Loss_MF: 0.0001\n",
      "mythre= 0.74451935\n",
      "mythre_test= 0.6043974\n",
      "Test accuracy = 0.808, Test AUC = 0.95\n",
      "--- Training --- [threshold, AUC] =  [0.765, 0.993]\n",
      "--- Iteration 29: Training loss --- [Data, Label, Total] = [85.357241.3, 6.241134.3, 91.598376.3]\n",
      "Epoch [40/100],Loss_Classification: 0.2440 Loss_MF: 0.0001\n",
      "mythre= 0.7651374\n",
      "mythre_test= 0.5794386\n",
      "Test accuracy = 0.808, Test AUC = 0.958\n",
      "--- Training --- [threshold, AUC] =  [0.77, 0.993]\n",
      "--- Iteration 39: Training loss --- [Data, Label, Total] = [85.283915.3, 6.088501.3, 91.372416.3]\n",
      "Epoch [50/100],Loss_Classification: 0.2406 Loss_MF: 0.0001\n",
      "mythre= 0.7698846\n",
      "mythre_test= 0.58266497\n",
      "Test accuracy = 0.808, Test AUC = 0.958\n",
      "--- Training --- [threshold, AUC] =  [0.768, 0.993]\n",
      "--- Iteration 49: Training loss --- [Data, Label, Total] = [85.296968.3, 6.007915.3, 91.304883.3]\n",
      "Epoch [60/100],Loss_Classification: 0.2385 Loss_MF: 0.0001\n",
      "mythre= 0.7683985\n",
      "mythre_test= 0.58440626\n",
      "Test accuracy = 0.808, Test AUC = 0.958\n",
      "--- Training --- [threshold, AUC] =  [0.768, 0.993]\n",
      "--- Iteration 59: Training loss --- [Data, Label, Total] = [85.324697.3, 5.958366.3, 91.283063.3]\n",
      "Epoch [70/100],Loss_Classification: 0.2371 Loss_MF: 0.0001\n",
      "mythre= 0.76771885\n",
      "mythre_test= 0.5853993\n",
      "Test accuracy = 0.808, Test AUC = 0.958\n",
      "--- Training --- [threshold, AUC] =  [0.767, 0.993]\n",
      "--- Iteration 69: Training loss --- [Data, Label, Total] = [85.350228.3, 5.924854.3, 91.275082.3]\n",
      "Epoch [80/100],Loss_Classification: 0.2361 Loss_MF: 0.0001\n",
      "mythre= 0.7674286\n",
      "mythre_test= 0.58598274\n",
      "Test accuracy = 0.808, Test AUC = 0.958\n",
      "--- Training --- [threshold, AUC] =  [0.767, 0.993]\n",
      "--- Iteration 79: Training loss --- [Data, Label, Total] = [85.370828.3, 5.900663.3, 91.271491.3]\n",
      "Epoch [90/100],Loss_Classification: 0.2354 Loss_MF: 0.0001\n",
      "mythre= 0.76733685\n",
      "mythre_test= 0.58632636\n",
      "Test accuracy = 0.808, Test AUC = 0.958\n",
      "--- Training --- [threshold, AUC] =  [0.524, 1.0]\n",
      "--- Iteration 89: Training loss --- [Data, Label, Total] = [85.386990.3, 5.882356.3, 91.269346.3]\n",
      "Epoch [100/100],Loss_Classification: 0.2348 Loss_MF: 0.0001\n",
      "mythre= 0.523601\n",
      "mythre_test= 0.5865249\n",
      "Test accuracy = 0.923, Test AUC = 0.958\n",
      "--- Training --- [threshold, AUC] =  [0.526, 1.0]\n",
      "--- Iteration 99: Training loss --- [Data, Label, Total] = [85.399627.3, 5.868001.3, 91.267628.3]\n",
      "mythre= 0.5256444\n",
      "mythre_test= 0.5865249\n",
      "Test accuracy = 0.923, Test AUC = 0.958\n"
     ]
    }
   ],
   "source": [
    "from sklearn.model_selection import train_test_split\n",
    "import numpy as np\n",
    "import torch\n",
    "from torch.autograd import Variable\n",
    "\n",
    "\"\"\"\n",
    "#data = pd.read_csv('../Data/Pancreatic_GSE16515.csv')\n",
    "data = pd.read_csv('../Data/Breast_GSE70947.csv')\n",
    "\n",
    "print(data.shape)\n",
    "y = data['type'].values\n",
    "y = [1 if y[i] == 'breast_adenocarcinoma' else 0 for i in range(len(y))]\n",
    "y = np.array(y)\n",
    "X = data.drop(columns=['samples', 'type']).values\n",
    "X = (X - np.mean(X, axis = 0))/(100*np.std(X, axis = 0)) # normalization\n",
    "\"\"\"\n",
    "\n",
    "\n",
    "hidden_size = 2\n",
    "\n",
    "Accuracy = []\n",
    "test_size = 0.5\n",
    "\n",
    "X_train, X_test, Y_train, Y_test = train_test_split(X, y, test_size=test_size, random_state=2)\n",
    "\n",
    "X_train = Variable(torch.from_numpy(X_train)).float()\n",
    "y_train = Variable(torch.from_numpy(Y_train)).long()\n",
    "X_test = Variable(torch.from_numpy(X_test)).float()\n",
    "y_test = Variable(torch.from_numpy(Y_test)).long()\n",
    "print(f\"y_train's ndim: {y_train.ndim}\")\n",
    "\n",
    "smf_model = smf(X_train, y_train, hidden_size, device='cuda')\n",
    "results_dict = smf_model.fit(num_epochs=100,\n",
    "               lr_classification=0.01,\n",
    "               lr_matrix_factorization=0.01,\n",
    "               xi=1,\n",
    "               initialize='spectral',\n",
    "               W_nonnegativity=True,\n",
    "               H_nonnegativity=True,\n",
    "               test_data=[X_test, y_test],\n",
    "               record_recons_error=True)\n",
    "Accuracy.append(smf_model.test(X_test, y_test))"
   ]
  },
  {
   "cell_type": "code",
   "execution_count": null,
   "id": "1bd92687",
   "metadata": {},
   "outputs": [],
   "source": [
    "smf_model."
   ]
  },
  {
   "cell_type": "code",
   "execution_count": null,
   "id": "2f7dd2cc",
   "metadata": {},
   "outputs": [],
   "source": [
    "import matplotlib.patches as mpatches\n",
    "\n",
    "fig = plt.figure(figsize=[4,4], constrained_layout=False)\n",
    "outer_grid = gridspec.GridSpec(nrows=1, ncols=1, wspace=0, hspace=0)\n",
    "inner_grid = outer_grid[0,0].subgridspec(1, 1, wspace=0, hspace=0)\n",
    "ax = fig.add_subplot(inner_grid[0, 0])\n",
    "colors = [\"r\", \"b\"]\n",
    "\n",
    "W = results_dict.get(\"loading\")[0]\n",
    "Beta = results_dict.get(\"loading\")[1]\n",
    "X_comp = W.T @ X.T\n",
    "\n",
    "for i in np.arange(len(y)):\n",
    "    x1 = X_comp[0,i]\n",
    "    x2 = X_comp[1,i]\n",
    "    label = y[i]\n",
    "    \n",
    "    if label == 0:\n",
    "        ax.scatter(x1, x2, s=20, c=\"b\", alpha=1)\n",
    "    else:\n",
    "        ax.scatter(x1, x2, s=20, c=\"r\", alpha=1)\n",
    "        \n",
    "red_patch = mpatches.Patch(color='red', label='Cancer')\n",
    "blue_patch = mpatches.Patch(color='blue', label='Normal')\n",
    "ax.legend(handles=[red_patch, blue_patch])\n",
    "\n",
    "beta1 = np.round(Beta[0,1], 3)\n",
    "beta2 = np.round(Beta[0,2], 3)\n",
    "ax.set_xlabel(r\"Composite Var. #1 ($\\beta_{1}=$\"+str(beta1) + \")\")\n",
    "ax.set_ylabel(r\"Composite Var. #2 ($\\beta_{2}=$\"+str(beta2) + \")\")\n",
    "\n",
    "\n",
    "\n",
    "plt.savefig(\"plot2\", bbox_inches=\"tight\", dpi=300)"
   ]
  }
 ],
 "metadata": {
  "kernelspec": {
   "display_name": "hlyuenv",
   "language": "python",
   "name": "hlyuenv"
  },
  "language_info": {
   "codemirror_mode": {
    "name": "ipython",
    "version": 3
   },
   "file_extension": ".py",
   "mimetype": "text/x-python",
   "name": "python",
   "nbconvert_exporter": "python",
   "pygments_lexer": "ipython3",
   "version": "3.9.13"
  }
 },
 "nbformat": 4,
 "nbformat_minor": 5
}
