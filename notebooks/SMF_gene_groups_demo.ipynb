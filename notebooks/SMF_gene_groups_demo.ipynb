{
 "cells": [
  {
   "cell_type": "code",
   "execution_count": 1,
   "id": "c7417f02-cf62-4634-9b9f-79055572b9b0",
   "metadata": {},
   "outputs": [],
   "source": [
    "import numpy as np\n",
    "import pandas as pd\n",
    "import matplotlib.pyplot as plt\n",
    "import seaborn as sns\n",
    "from sklearn.linear_model import LogisticRegression\n",
    "from sklearn.decomposition import PCA, TruncatedSVD\n",
    "from sklearn.model_selection import train_test_split\n",
    "import matplotlib.gridspec as gridspec\n",
    "\n",
    "import sys\n",
    "sys.path.append('../src')  # Go one level up and then into src\n",
    "from SMF import SMF_BCD, SMF_LPGD, rank_r_projection, compute_accuracy_metrics\n",
    "from SMF_torch import smf"
   ]
  },
  {
   "cell_type": "markdown",
   "id": "6983cd56",
   "metadata": {},
   "source": [
    "# Microarray Cancer Data"
   ]
  },
  {
   "cell_type": "markdown",
   "id": "5b6d8d06",
   "metadata": {},
   "source": [
    "## Read data"
   ]
  },
  {
   "cell_type": "code",
   "execution_count": 2,
   "id": "48679e2c",
   "metadata": {},
   "outputs": [
    {
     "name": "stdout",
     "output_type": "stream",
     "text": [
      "X.shape= (51, 54675)\n",
      "y.shape= (51,)\n"
     ]
    }
   ],
   "source": [
    "import pandas as pd\n",
    "import numpy as np\n",
    "from sklearn.model_selection import train_test_split\n",
    "import seaborn as sns\n",
    "sns.set_style(\"whitegrid\")\n",
    "\n",
    "#sys.path.append('../data')  # Go one level up and then into src\n",
    "\n",
    "\"\"\"\n",
    "data = pd.read_csv('../Data/Breast_GSE70947.csv')\n",
    "y = data['type'].values\n",
    "y = [1 if y[i] == 'breast_adenocarcinoma' else 0 for i in range(len(y))]\n",
    "X = data.drop(columns=['samples', 'type']).values\n",
    "X = (X - np.mean(X, axis = 0))/(100*np.std(X, axis = 0)) # normalization\n",
    "print(\"X.shape=\", X.shape)\n",
    "\n",
    "\"\"\"\n",
    "\n",
    "data = pd.read_csv('../Data/Pancreatic_GSE16515.csv')\n",
    "y = data['type'].values\n",
    "y = [1 if y[i] == 'tumoral' else 0 for i in range(len(y))]\n",
    "y = np.array(y)\n",
    "X0 = data.drop(columns=['samples', 'type']).values\n",
    "X = (X0 - np.mean(X0, axis = 0))/(100*np.std(X0, axis = 0)) # normalization\n",
    "#X = 10*X0/np.linalg.norm(X0)\n",
    "print(\"X.shape=\", X.shape) # X.shape = [num of samples, num of features]\n",
    "print(\"y.shape=\", y.shape)\n",
    "\n",
    "\n",
    "X_train, X_test, Y_train, Y_test = train_test_split(X, y, test_size=0.5, random_state=0)\n",
    "X_train, X_test = X_train.T, X_test.T\n",
    "Y_train, Y_test = np.asarray([Y_train]), np.asarray([Y_test])\n",
    "covariate_train, covariate_test = None, None\n",
    "\n",
    "gene_list0 = data.keys()\n",
    "gene_list = gene_list0[2:]"
   ]
  },
  {
   "cell_type": "markdown",
   "id": "f02c78df",
   "metadata": {},
   "source": [
    "## SMF-W"
   ]
  },
  {
   "cell_type": "markdown",
   "id": "21fe09d7",
   "metadata": {},
   "source": [
    "### Use Block Coordiante Descent to fit SMF-W"
   ]
  },
  {
   "cell_type": "code",
   "execution_count": null,
   "id": "07d0e429",
   "metadata": {},
   "outputs": [
    {
     "name": "stdout",
     "output_type": "stream",
     "text": [
      "initial loading beta [[0.47151997 0.35530941 0.64547285]]\n"
     ]
    },
    {
     "name": "stderr",
     "output_type": "stream",
     "text": [
      "  4%|▍         | 4/100 [00:00<00:02, 35.18it/s]"
     ]
    },
    {
     "name": "stdout",
     "output_type": "stream",
     "text": [
      "--- Training --- [threshold, AUC] =  [np.float64(0.74), np.float64(0.917)]\n",
      "--- Iteration 0: Training loss --- [Data, Label, Total] = [94.647521.3, 10.400636.3, 105.048158.3]\n"
     ]
    },
    {
     "name": "stderr",
     "output_type": "stream",
     "text": [
      " 11%|█         | 11/100 [00:00<00:01, 46.26it/s]"
     ]
    },
    {
     "name": "stdout",
     "output_type": "stream",
     "text": [
      "--- Training --- [threshold, AUC] =  [np.float64(0.642), np.float64(0.931)]\n",
      "--- Iteration 10: Training loss --- [Data, Label, Total] = [89.126799.3, 9.299910.3, 98.426709.3]\n"
     ]
    },
    {
     "name": "stderr",
     "output_type": "stream",
     "text": [
      " 28%|██▊       | 28/100 [00:00<00:01, 53.88it/s]"
     ]
    },
    {
     "name": "stdout",
     "output_type": "stream",
     "text": [
      "--- Training --- [threshold, AUC] =  [np.float64(0.641), np.float64(0.944)]\n",
      "--- Iteration 20: Training loss --- [Data, Label, Total] = [89.359283.3, 8.783899.3, 98.143182.3]\n",
      "--- Training --- [threshold, AUC] =  [np.float64(0.565), np.float64(0.951)]\n",
      "--- Iteration 30: Training loss --- [Data, Label, Total] = [89.530398.3, 8.434581.3, 97.964979.3]\n"
     ]
    },
    {
     "name": "stderr",
     "output_type": "stream",
     "text": [
      " 46%|████▌     | 46/100 [00:00<00:01, 49.75it/s]"
     ]
    },
    {
     "name": "stdout",
     "output_type": "stream",
     "text": [
      "--- Training --- [threshold, AUC] =  [np.float64(0.566), np.float64(0.951)]\n",
      "--- Iteration 40: Training loss --- [Data, Label, Total] = [89.655905.3, 8.185471.3, 97.841376.3]\n",
      "--- Training --- [threshold, AUC] =  [np.float64(0.568), np.float64(0.951)]\n",
      "--- Iteration 50: Training loss --- [Data, Label, Total] = [89.750818.3, 8.000665.3, 97.751483.3]\n"
     ]
    },
    {
     "name": "stderr",
     "output_type": "stream",
     "text": [
      " 71%|███████   | 71/100 [00:01<00:00, 51.00it/s]"
     ]
    },
    {
     "name": "stdout",
     "output_type": "stream",
     "text": [
      "--- Training --- [threshold, AUC] =  [np.float64(0.568), np.float64(0.958)]\n",
      "--- Iteration 60: Training loss --- [Data, Label, Total] = [89.824731.3, 7.859105.3, 97.683836.3]\n",
      "--- Training --- [threshold, AUC] =  [np.float64(0.569), np.float64(0.958)]\n",
      "--- Iteration 70: Training loss --- [Data, Label, Total] = [89.883692.3, 7.747756.3, 97.631448.3]\n"
     ]
    },
    {
     "name": "stderr",
     "output_type": "stream",
     "text": [
      " 90%|█████████ | 90/100 [00:01<00:00, 52.69it/s]"
     ]
    },
    {
     "name": "stdout",
     "output_type": "stream",
     "text": [
      "--- Training --- [threshold, AUC] =  [np.float64(0.57), np.float64(0.958)]\n",
      "--- Iteration 80: Training loss --- [Data, Label, Total] = [89.931575.3, 7.659742.3, 97.591317.3]\n",
      "--- Training --- [threshold, AUC] =  [np.float64(0.57), np.float64(0.965)]\n",
      "--- Iteration 90: Training loss --- [Data, Label, Total] = [89.971146.3, 7.586652.3, 97.557798.3]\n"
     ]
    },
    {
     "name": "stderr",
     "output_type": "stream",
     "text": [
      "100%|██████████| 100/100 [00:02<00:00, 49.93it/s]"
     ]
    },
    {
     "name": "stdout",
     "output_type": "stream",
     "text": [
      "!!! pred_type filter\n",
      "--- Training --- [threshold, AUC] =  [np.float64(0.571), np.float64(0.965)]\n"
     ]
    },
    {
     "name": "stderr",
     "output_type": "stream",
     "text": [
      "\n"
     ]
    }
   ],
   "source": [
    "r = 2 # number of latent gene groups\n",
    "xi = 1 # supervision parameter (weight for the matrix factorization loss)\n",
    "iteration = 100\n",
    "\n",
    "\n",
    "U0, S0, H0, recons = rank_r_projection(X_train, r)\n",
    "W0 = U0 @ np.diag(S0) # initial filters = latent gene groups \n",
    "W0 = [W0, 1-2*np.random.rand(Y_train.shape[0], r + 1)] # initial filters + regression coefficients\n",
    "\n",
    "SMF_BCD_class = SMF_BCD(X=[X_train, Y_train],  # data, label\n",
    "                            X_test=[X_test, Y_test], \n",
    "                            n_components=r,  \n",
    "                            ini_loading=W0,  # Initializatio for [W,W'], W1.shape = [d1, r], W2.shape = [d2, r]\n",
    "                            # ini_loading=[W_true, np.hstack((np.array([[0]]), Beta_true))],\n",
    "                            ini_code = H0,\n",
    "                            xi=xi,  # weight on label reconstruction error\n",
    "                            nonnegativity=[False,False,False]) # nonnegativity constraints on code H, dictionary W[0], reg params W[1]\n",
    "\n",
    "results_dict = SMF_BCD_class.fit(iter=iteration, subsample_size=None,\n",
    "                                    option = \"filter\",\n",
    "                                    if_compute_recons_error=True, if_validate=False)\n",
    "\n",
    "results_dict.update({'method': 'SMF-W'})\n",
    "results_dict.update({'r': r})\n",
    "results_dict.update({'xi': xi})\n",
    "results_dict.update({'nu': None})"
   ]
  },
  {
   "cell_type": "code",
   "execution_count": null,
   "id": "ae131b12",
   "metadata": {},
   "outputs": [
    {
     "data": {
      "image/png": "[encoded data removed]",
      "text/plain": [
       "<Figure size 400x400 with 1 Axes>"
      ]
     },
     "metadata": {},
     "output_type": "display_data"
    }
   ],
   "source": [
    "import matplotlib.patches as mpatches\n",
    "\n",
    "fig = plt.figure(figsize=[4,4], constrained_layout=False)\n",
    "outer_grid = gridspec.GridSpec(nrows=1, ncols=1, wspace=0, hspace=0)\n",
    "inner_grid = outer_grid[0,0].subgridspec(1, 1, wspace=0, hspace=0)\n",
    "ax = fig.add_subplot(inner_grid[0, 0])\n",
    "colors = [\"r\", \"b\"]\n",
    "\n",
    "W = results_dict.get(\"loading\")[0]\n",
    "Beta = results_dict.get(\"loading\")[1]\n",
    "X_comp = W.T @ X.T\n",
    "\n",
    "for i in np.arange(len(y)):\n",
    "    x1 = X_comp[0,i]\n",
    "    x2 = X_comp[1,i]\n",
    "    label = y[i]\n",
    "    \n",
    "    if label == 0:\n",
    "        ax.scatter(x1, x2, s=20, c=\"b\", alpha=1)\n",
    "    else:\n",
    "        ax.scatter(x1, x2, s=20, c=\"r\", alpha=1)\n",
    "        \n",
    "red_patch = mpatches.Patch(color='red', label='Cancer')\n",
    "blue_patch = mpatches.Patch(color='blue', label='Normal')\n",
    "ax.legend(handles=[red_patch, blue_patch])\n",
    "\n",
    "beta1 = np.round(Beta[0,1], 3)\n",
    "beta2 = np.round(Beta[0,2], 3)\n",
    "ax.set_xlabel(r\"Composite Var. #1 ($\\beta_{1}=$\"+str(beta1) + \")\")\n",
    "ax.set_ylabel(r\"Composite Var. #2 ($\\beta_{2}=$\"+str(beta2) + \")\")\n",
    "\n",
    "\n",
    "\n",
    "plt.savefig(\"plot1\", bbox_inches=\"tight\", dpi=300)"
   ]
  },
  {
   "cell_type": "code",
   "execution_count": null,
   "id": "66f7822d",
   "metadata": {},
   "outputs": [
    {
     "name": "stdout",
     "output_type": "stream",
     "text": [
      "latent gene groups = \n",
      "[[-3.52264040e-03  7.58152588e-03]\n",
      " [-2.59823552e-03  1.41878962e-03]\n",
      " [-2.81920269e-03  5.52965620e-03]\n",
      " ...\n",
      " [ 2.01460038e-03 -9.48611164e-05]\n",
      " [ 2.73517196e-03 -2.56584980e-04]\n",
      " [ 1.16138669e-03  2.32250207e-03]]\n",
      "regression coefficients associated to the latent gene groups = [-1.24921488  1.90489837]\n",
      "intercept term = 0.8437103411567115\n"
     ]
    }
   ],
   "source": [
    "print(\"latent gene groups = \" + \"\\n\" + \"{}\".format(W))\n",
    "print(\"regression coefficients associated to the latent gene groups = {}\".format(Beta[0,1:]))\n",
    "print(\"intercept term = {}\".format(Beta[0,0]))"
   ]
  },
  {
   "cell_type": "markdown",
   "id": "c264babc",
   "metadata": {},
   "source": [
    "### Use Low-rank Projected Gradient Descent to fit SMF-W"
   ]
  },
  {
   "cell_type": "code",
   "execution_count": null,
   "id": "4b51f2d5",
   "metadata": {},
   "outputs": [
    {
     "name": "stdout",
     "output_type": "stream",
     "text": [
      "initial loading beta [[ 0.08032959 -0.89224803 -0.06860986]]\n"
     ]
    },
    {
     "name": "stderr",
     "output_type": "stream",
     "text": [
      "100%|██████████| 100/100 [00:09<00:00, 10.16it/s]\n"
     ]
    },
    {
     "name": "stdout",
     "output_type": "stream",
     "text": [
      "!!! pred_type filter\n",
      "--- Training --- [threshold, AUC] =  [np.float64(0.686), np.float64(0.944)]\n",
      "!!! ACC_list [np.float64(0.8076923076923077)]\n",
      "--- Validation (filter) --- [threshold, AUC, accuracy, rel_error_data] = [0.595, 0.958, 0.808, 0.854]\n"
     ]
    }
   ],
   "source": [
    "r = 2 # number of latent gene groups\n",
    "xi = 1 # supervision parameter (weight for the matrix factorization loss)\n",
    "iteration = 100\n",
    "\n",
    "U0, S0, H0, recons = rank_r_projection(X_train, r)\n",
    "W0 = U0 @ np.diag(S0) # initial filters = latent gene groups \n",
    "W0 = [W0, 1-2*np.random.rand(Y_train.shape[0], r + 1)] # initial filters + regression coefficients\n",
    "\n",
    "SMF_LPGD_class = SMF_LPGD(X=[X_train, Y_train],  # data, label\n",
    "                        X_test=[X_test, Y_test],\n",
    "                        n_components=r,  # =: r = number of columns in dictionary matrices W, W'\n",
    "                        ini_loading = W0,  # Initializatio for [W,W'], W1.shape = [d1, r], W2.shape = [d2, r]\n",
    "                        # ini_loading=[W_true, np.hstack((np.array([[0]]), Beta_true))],\n",
    "                        ini_code = H0,\n",
    "                        xi=xi)  # weight on label reconstruction error\n",
    "                       \n",
    "\n",
    "results_dict = SMF_LPGD_class.fit(iter=iteration, \n",
    "                                    beta = 0,\n",
    "                                    nu = 0,\n",
    "                                    stepsize=0.01,\n",
    "                                    if_compute_recons_error=False, if_validate=False)\n",
    "\n",
    "results_dict.update({'method': 'SDL-W'})\n",
    "results_dict.update({'r': r})\n",
    "results_dict.update({'xi': xi})\n",
    "results_dict.update({'nu': None})"
   ]
  },
  {
   "cell_type": "code",
   "execution_count": null,
   "id": "ccebd0f4",
   "metadata": {},
   "outputs": [
    {
     "data": {
      "image/png": "[encoded data removed]",
      "text/plain": [
       "<Figure size 400x400 with 1 Axes>"
      ]
     },
     "metadata": {},
     "output_type": "display_data"
    }
   ],
   "source": [
    "import matplotlib.patches as mpatches\n",
    "\n",
    "fig = plt.figure(figsize=[4,4], constrained_layout=False)\n",
    "outer_grid = gridspec.GridSpec(nrows=1, ncols=1, wspace=0, hspace=0)\n",
    "inner_grid = outer_grid[0,0].subgridspec(1, 1, wspace=0, hspace=0)\n",
    "ax = fig.add_subplot(inner_grid[0, 0])\n",
    "colors = [\"r\", \"b\"]\n",
    "\n",
    "W = results_dict.get(\"loading\")[0]\n",
    "Beta = results_dict.get(\"loading\")[1]\n",
    "X_comp = W.T @ X.T\n",
    "\n",
    "for i in np.arange(len(y)):\n",
    "    x1 = X_comp[0,i]\n",
    "    x2 = X_comp[1,i]\n",
    "    label = y[i]\n",
    "    \n",
    "    if label == 0:\n",
    "        ax.scatter(x1, x2, s=20, c=\"b\", alpha=1)\n",
    "    else:\n",
    "        ax.scatter(x1, x2, s=20, c=\"r\", alpha=1)\n",
    "        \n",
    "red_patch = mpatches.Patch(color='red', label='Cancer')\n",
    "blue_patch = mpatches.Patch(color='blue', label='Normal')\n",
    "ax.legend(handles=[red_patch, blue_patch])\n",
    "\n",
    "beta1 = np.round(Beta[0,1], 3)\n",
    "beta2 = np.round(Beta[0,2], 3)\n",
    "ax.set_xlabel(r\"Composite Var. #1 ($\\beta_{1}=$\"+str(beta1) + \")\")\n",
    "ax.set_ylabel(r\"Composite Var. #2 ($\\beta_{2}=$\"+str(beta2) + \")\")\n",
    "\n",
    "\n",
    "\n",
    "plt.savefig(\"plot2\", bbox_inches=\"tight\", dpi=300)"
   ]
  },
  {
   "cell_type": "code",
   "execution_count": null,
   "id": "99afc953",
   "metadata": {},
   "outputs": [
    {
     "name": "stdout",
     "output_type": "stream",
     "text": [
      "latent gene groups = \n",
      "[[-0.00267029  0.0042739 ]\n",
      " [-0.00394761  0.00013561]\n",
      " [-0.00377185  0.00492672]\n",
      " ...\n",
      " [ 0.00440043 -0.00040135]\n",
      " [ 0.00464738  0.0010489 ]\n",
      " [ 0.00310083  0.00265626]]\n",
      "regression coefficients associated to the latent gene groups = [-3.87954256  2.04356157]\n",
      "intercept term = 0.5364943460140998\n"
     ]
    }
   ],
   "source": [
    "print(\"latent gene groups = \" + \"\\n\" + \"{}\".format(W))\n",
    "print(\"regression coefficients associated to the latent gene groups = {}\".format(Beta[0,1:]))\n",
    "print(\"intercept term = {}\".format(Beta[0,0]))"
   ]
  },
  {
   "cell_type": "markdown",
   "id": "d1de7c4e",
   "metadata": {},
   "source": [
    "### Use Pytorch implementation of BCD to fit SMF-W (utilizes GPU if possible)"
   ]
  },
  {
   "cell_type": "code",
   "execution_count": 3,
   "id": "f8853735",
   "metadata": {},
   "outputs": [
    {
     "name": "stdout",
     "output_type": "stream",
     "text": [
      "y_train's ndim: 1\n",
      "\n",
      "x2's shape: torch.Size([25, 1])\n",
      "x2's shape: torch.Size([25, 1])\n",
      "x2's shape: torch.Size([25, 1])\n",
      "x2's shape: torch.Size([25, 1])\n",
      "x2's shape: torch.Size([25, 1])\n",
      "x2's shape: torch.Size([25, 1])\n",
      "x2's shape: torch.Size([25, 1])\n",
      "x2's shape: torch.Size([25, 1])\n",
      "x2's shape: torch.Size([25, 1])\n",
      "x2's shape: torch.Size([25, 1])\n",
      "Epoch [10/10000],Loss_Classification: 50.3738 Loss_MF: 0.0001\n",
      "x2's shape: torch.Size([26, 1])\n",
      "mythre= 0.5\n",
      "mythre_test= 0.62271804\n",
      "Test accuracy = 0.846, Test AUC = 0.85\n",
      "x2's shape: torch.Size([25, 1])\n",
      "--- Training --- [threshold, AUC] =  [np.float32(0.696), np.float64(0.896)]\n",
      "--- Iteration 9: Training loss --- [Data, Label, Total] = [98.333855.3, 12.143910.3, 110.477765.3]\n",
      "x2's shape: torch.Size([25, 1])\n",
      "x2's shape: torch.Size([25, 1])\n",
      "x2's shape: torch.Size([25, 1])\n",
      "x2's shape: torch.Size([25, 1])\n",
      "x2's shape: torch.Size([25, 1])\n",
      "x2's shape: torch.Size([25, 1])\n",
      "x2's shape: torch.Size([25, 1])\n",
      "x2's shape: torch.Size([25, 1])\n",
      "x2's shape: torch.Size([25, 1])\n",
      "x2's shape: torch.Size([25, 1])\n",
      "Epoch [20/10000],Loss_Classification: 50.3738 Loss_MF: 0.0001\n",
      "x2's shape: torch.Size([26, 1])\n",
      "mythre= 0.6957299\n",
      "mythre_test= 0.62271804\n",
      "Test accuracy = 0.692, Test AUC = 0.85\n",
      "x2's shape: torch.Size([25, 1])\n",
      "--- Training --- [threshold, AUC] =  [np.float32(0.696), np.float64(0.896)]\n",
      "--- Iteration 19: Training loss --- [Data, Label, Total] = [98.343575.3, 12.143910.3, 110.487485.3]\n",
      "x2's shape: torch.Size([25, 1])\n",
      "x2's shape: torch.Size([25, 1])\n",
      "x2's shape: torch.Size([25, 1])\n",
      "x2's shape: torch.Size([25, 1])\n",
      "x2's shape: torch.Size([25, 1])\n",
      "x2's shape: torch.Size([25, 1])\n",
      "x2's shape: torch.Size([25, 1])\n",
      "x2's shape: torch.Size([25, 1])\n",
      "x2's shape: torch.Size([25, 1])\n",
      "x2's shape: torch.Size([25, 1])\n",
      "Epoch [30/10000],Loss_Classification: 50.3738 Loss_MF: 0.0001\n",
      "x2's shape: torch.Size([26, 1])\n",
      "mythre= 0.6957299\n",
      "mythre_test= 0.62271804\n",
      "Test accuracy = 0.692, Test AUC = 0.85\n",
      "x2's shape: torch.Size([25, 1])\n",
      "--- Training --- [threshold, AUC] =  [np.float32(0.696), np.float64(0.896)]\n",
      "--- Iteration 29: Training loss --- [Data, Label, Total] = [98.335426.3, 12.143910.3, 110.479337.3]\n",
      "x2's shape: torch.Size([25, 1])\n",
      "x2's shape: torch.Size([25, 1])\n",
      "x2's shape: torch.Size([25, 1])\n",
      "x2's shape: torch.Size([25, 1])\n",
      "x2's shape: torch.Size([25, 1])\n",
      "x2's shape: torch.Size([25, 1])\n",
      "x2's shape: torch.Size([25, 1])\n",
      "x2's shape: torch.Size([25, 1])\n",
      "x2's shape: torch.Size([25, 1])\n",
      "x2's shape: torch.Size([25, 1])\n",
      "Epoch [40/10000],Loss_Classification: 50.3738 Loss_MF: 0.0001\n",
      "x2's shape: torch.Size([26, 1])\n",
      "mythre= 0.6957299\n",
      "mythre_test= 0.62271804\n",
      "Test accuracy = 0.692, Test AUC = 0.85\n",
      "x2's shape: torch.Size([25, 1])\n",
      "--- Training --- [threshold, AUC] =  [np.float32(0.696), np.float64(0.896)]\n",
      "--- Iteration 39: Training loss --- [Data, Label, Total] = [98.355835.3, 12.143910.3, 110.499745.3]\n",
      "x2's shape: torch.Size([25, 1])\n",
      "x2's shape: torch.Size([25, 1])\n",
      "x2's shape: torch.Size([25, 1])\n",
      "x2's shape: torch.Size([25, 1])\n",
      "x2's shape: torch.Size([25, 1])\n",
      "x2's shape: torch.Size([25, 1])\n"
     ]
    },
    {
     "ename": "KeyboardInterrupt",
     "evalue": "",
     "output_type": "error",
     "traceback": [
      "\u001b[0;31m---------------------------------------------------------------------------\u001b[0m",
      "\u001b[0;31mKeyboardInterrupt\u001b[0m                         Traceback (most recent call last)",
      "Cell \u001b[0;32mIn[3], line 33\u001b[0m\n\u001b[1;32m     30\u001b[0m \u001b[38;5;28mprint\u001b[39m(\u001b[38;5;124mf\u001b[39m\u001b[38;5;124m\"\u001b[39m\u001b[38;5;124my_train\u001b[39m\u001b[38;5;124m'\u001b[39m\u001b[38;5;124ms ndim: \u001b[39m\u001b[38;5;132;01m{\u001b[39;00my_train\u001b[38;5;241m.\u001b[39mndim\u001b[38;5;132;01m}\u001b[39;00m\u001b[38;5;124m\"\u001b[39m)\n\u001b[1;32m     32\u001b[0m smf_model \u001b[38;5;241m=\u001b[39m smf(X_train, y_train, hidden_size, device\u001b[38;5;241m=\u001b[39m\u001b[38;5;124m'\u001b[39m\u001b[38;5;124mcuda\u001b[39m\u001b[38;5;124m'\u001b[39m)\n\u001b[0;32m---> 33\u001b[0m \u001b[43msmf_model\u001b[49m\u001b[38;5;241;43m.\u001b[39;49m\u001b[43mfit\u001b[49m\u001b[43m(\u001b[49m\u001b[43mnum_epochs\u001b[49m\u001b[38;5;241;43m=\u001b[39;49m\u001b[38;5;241;43m10000\u001b[39;49m\u001b[43m,\u001b[49m\n\u001b[1;32m     34\u001b[0m \u001b[43m               \u001b[49m\u001b[43mlr_classification\u001b[49m\u001b[38;5;241;43m=\u001b[39;49m\u001b[38;5;241;43m0.01\u001b[39;49m\u001b[43m,\u001b[49m\n\u001b[1;32m     35\u001b[0m \u001b[43m               \u001b[49m\u001b[43mlr_matrix_factorization\u001b[49m\u001b[38;5;241;43m=\u001b[39;49m\u001b[38;5;241;43m0.01\u001b[39;49m\u001b[43m,\u001b[49m\n\u001b[1;32m     36\u001b[0m \u001b[43m               \u001b[49m\u001b[43mxi\u001b[49m\u001b[38;5;241;43m=\u001b[39;49m\u001b[38;5;241;43m1\u001b[39;49m\u001b[43m,\u001b[49m\n\u001b[1;32m     37\u001b[0m \u001b[43m               \u001b[49m\u001b[43minitialize\u001b[49m\u001b[38;5;241;43m=\u001b[39;49m\u001b[38;5;124;43m'\u001b[39;49m\u001b[38;5;124;43mspectral\u001b[39;49m\u001b[38;5;124;43m'\u001b[39;49m\u001b[43m,\u001b[49m\n\u001b[1;32m     38\u001b[0m \u001b[43m               \u001b[49m\u001b[43mW_nonnegativity\u001b[49m\u001b[38;5;241;43m=\u001b[39;49m\u001b[38;5;28;43;01mTrue\u001b[39;49;00m\u001b[43m,\u001b[49m\n\u001b[1;32m     39\u001b[0m \u001b[43m               \u001b[49m\u001b[43mH_nonnegativity\u001b[49m\u001b[38;5;241;43m=\u001b[39;49m\u001b[38;5;28;43;01mTrue\u001b[39;49;00m\u001b[43m,\u001b[49m\n\u001b[1;32m     40\u001b[0m \u001b[43m               \u001b[49m\u001b[43mtest_data\u001b[49m\u001b[38;5;241;43m=\u001b[39;49m\u001b[43m[\u001b[49m\u001b[43mX_test\u001b[49m\u001b[43m,\u001b[49m\u001b[43m \u001b[49m\u001b[43my_test\u001b[49m\u001b[43m]\u001b[49m\u001b[43m,\u001b[49m\n\u001b[1;32m     41\u001b[0m \u001b[43m               \u001b[49m\u001b[43mrecord_recons_error\u001b[49m\u001b[38;5;241;43m=\u001b[39;49m\u001b[38;5;28;43;01mTrue\u001b[39;49;00m\u001b[43m)\u001b[49m\n\u001b[1;32m     42\u001b[0m Accuracy\u001b[38;5;241m.\u001b[39mappend(smf_model\u001b[38;5;241m.\u001b[39mtest(X_test, y_test))\n",
      "File \u001b[0;32m~/Code/SMF_BCD/SMF/notebooks/../src/SMF_torch.py:310\u001b[0m, in \u001b[0;36msmf.fit\u001b[0;34m(self, num_epochs, lr_classification, lr_matrix_factorization, xi, ini_loading, ini_code, initialize, W_nonnegativity, H_nonnegativity, test_data, record_recons_error, threshold)\u001b[0m\n\u001b[1;32m    308\u001b[0m \u001b[38;5;28;01mfor\u001b[39;00m epoch1 \u001b[38;5;129;01min\u001b[39;00m \u001b[38;5;28mrange\u001b[39m(\u001b[38;5;241m5\u001b[39m):\n\u001b[1;32m    309\u001b[0m     optimizer_MF_H\u001b[38;5;241m.\u001b[39mzero_grad()\n\u001b[0;32m--> 310\u001b[0m     X_hat1 \u001b[38;5;241m=\u001b[39m \u001b[38;5;28;43mself\u001b[39;49m\u001b[38;5;241;43m.\u001b[39;49m\u001b[43mmodel_MF_H\u001b[49m\u001b[43m(\u001b[49m\u001b[43mcommon_W\u001b[49m\u001b[43m)\u001b[49m\n\u001b[1;32m    311\u001b[0m     loss_MF_H \u001b[38;5;241m=\u001b[39m criterion_MF_H(X_hat1, \u001b[38;5;28mself\u001b[39m\u001b[38;5;241m.\u001b[39mX_train\u001b[38;5;241m.\u001b[39mT)\n\u001b[1;32m    312\u001b[0m     loss_MF_H\u001b[38;5;241m.\u001b[39mbackward(retain_graph\u001b[38;5;241m=\u001b[39m\u001b[38;5;28;01mTrue\u001b[39;00m)\n",
      "File \u001b[0;32m~/miniforge3/envs/REU2024/lib/python3.12/site-packages/torch/nn/modules/module.py:1532\u001b[0m, in \u001b[0;36mModule._wrapped_call_impl\u001b[0;34m(self, *args, **kwargs)\u001b[0m\n\u001b[1;32m   1530\u001b[0m     \u001b[38;5;28;01mreturn\u001b[39;00m \u001b[38;5;28mself\u001b[39m\u001b[38;5;241m.\u001b[39m_compiled_call_impl(\u001b[38;5;241m*\u001b[39margs, \u001b[38;5;241m*\u001b[39m\u001b[38;5;241m*\u001b[39mkwargs)  \u001b[38;5;66;03m# type: ignore[misc]\u001b[39;00m\n\u001b[1;32m   1531\u001b[0m \u001b[38;5;28;01melse\u001b[39;00m:\n\u001b[0;32m-> 1532\u001b[0m     \u001b[38;5;28;01mreturn\u001b[39;00m \u001b[38;5;28;43mself\u001b[39;49m\u001b[38;5;241;43m.\u001b[39;49m\u001b[43m_call_impl\u001b[49m\u001b[43m(\u001b[49m\u001b[38;5;241;43m*\u001b[39;49m\u001b[43margs\u001b[49m\u001b[43m,\u001b[49m\u001b[43m \u001b[49m\u001b[38;5;241;43m*\u001b[39;49m\u001b[38;5;241;43m*\u001b[39;49m\u001b[43mkwargs\u001b[49m\u001b[43m)\u001b[49m\n",
      "File \u001b[0;32m~/miniforge3/envs/REU2024/lib/python3.12/site-packages/torch/nn/modules/module.py:1541\u001b[0m, in \u001b[0;36mModule._call_impl\u001b[0;34m(self, *args, **kwargs)\u001b[0m\n\u001b[1;32m   1536\u001b[0m \u001b[38;5;66;03m# If we don't have any hooks, we want to skip the rest of the logic in\u001b[39;00m\n\u001b[1;32m   1537\u001b[0m \u001b[38;5;66;03m# this function, and just call forward.\u001b[39;00m\n\u001b[1;32m   1538\u001b[0m \u001b[38;5;28;01mif\u001b[39;00m \u001b[38;5;129;01mnot\u001b[39;00m (\u001b[38;5;28mself\u001b[39m\u001b[38;5;241m.\u001b[39m_backward_hooks \u001b[38;5;129;01mor\u001b[39;00m \u001b[38;5;28mself\u001b[39m\u001b[38;5;241m.\u001b[39m_backward_pre_hooks \u001b[38;5;129;01mor\u001b[39;00m \u001b[38;5;28mself\u001b[39m\u001b[38;5;241m.\u001b[39m_forward_hooks \u001b[38;5;129;01mor\u001b[39;00m \u001b[38;5;28mself\u001b[39m\u001b[38;5;241m.\u001b[39m_forward_pre_hooks\n\u001b[1;32m   1539\u001b[0m         \u001b[38;5;129;01mor\u001b[39;00m _global_backward_pre_hooks \u001b[38;5;129;01mor\u001b[39;00m _global_backward_hooks\n\u001b[1;32m   1540\u001b[0m         \u001b[38;5;129;01mor\u001b[39;00m _global_forward_hooks \u001b[38;5;129;01mor\u001b[39;00m _global_forward_pre_hooks):\n\u001b[0;32m-> 1541\u001b[0m     \u001b[38;5;28;01mreturn\u001b[39;00m \u001b[43mforward_call\u001b[49m\u001b[43m(\u001b[49m\u001b[38;5;241;43m*\u001b[39;49m\u001b[43margs\u001b[49m\u001b[43m,\u001b[49m\u001b[43m \u001b[49m\u001b[38;5;241;43m*\u001b[39;49m\u001b[38;5;241;43m*\u001b[39;49m\u001b[43mkwargs\u001b[49m\u001b[43m)\u001b[49m\n\u001b[1;32m   1543\u001b[0m \u001b[38;5;28;01mtry\u001b[39;00m:\n\u001b[1;32m   1544\u001b[0m     result \u001b[38;5;241m=\u001b[39m \u001b[38;5;28;01mNone\u001b[39;00m\n",
      "File \u001b[0;32m~/Code/SMF_BCD/SMF/notebooks/../src/SMF_torch.py:149\u001b[0m, in \u001b[0;36msmf._initialize_matrix_factorization_model_for_H.<locals>.MF_H.forward\u001b[0;34m(self, W)\u001b[0m\n\u001b[1;32m    148\u001b[0m \u001b[38;5;28;01mdef\u001b[39;00m \u001b[38;5;21mforward\u001b[39m(\u001b[38;5;28mself\u001b[39m, W):\n\u001b[0;32m--> 149\u001b[0m     \u001b[38;5;28;01mreturn\u001b[39;00m \u001b[43mtorch\u001b[49m\u001b[38;5;241;43m.\u001b[39;49m\u001b[43mmm\u001b[49m\u001b[43m(\u001b[49m\u001b[43mW\u001b[49m\u001b[43m,\u001b[49m\u001b[43m \u001b[49m\u001b[38;5;28;43mself\u001b[39;49m\u001b[38;5;241;43m.\u001b[39;49m\u001b[43mH\u001b[49m\u001b[43m)\u001b[49m\n",
      "\u001b[0;31mKeyboardInterrupt\u001b[0m: "
     ]
    }
   ],
   "source": [
    "from sklearn.model_selection import train_test_split\n",
    "import numpy as np\n",
    "import torch\n",
    "from torch.autograd import Variable\n",
    "\n",
    "\"\"\"\n",
    "#data = pd.read_csv('../Data/Pancreatic_GSE16515.csv')\n",
    "data = pd.read_csv('../Data/Breast_GSE70947.csv')\n",
    "\n",
    "print(data.shape)\n",
    "y = data['type'].values\n",
    "y = [1 if y[i] == 'breast_adenocarcinoma' else 0 for i in range(len(y))]\n",
    "y = np.array(y)\n",
    "X = data.drop(columns=['samples', 'type']).values\n",
    "X = (X - np.mean(X, axis = 0))/(100*np.std(X, axis = 0)) # normalization\n",
    "\"\"\"\n",
    "\n",
    "\n",
    "hidden_size = 2\n",
    "\n",
    "Accuracy = []\n",
    "test_size = 0.5\n",
    "\n",
    "X_train, X_test, Y_train, Y_test = train_test_split(X, y, test_size=test_size, random_state=2)\n",
    "\n",
    "X_train = Variable(torch.from_numpy(X_train)).float()\n",
    "y_train = Variable(torch.from_numpy(Y_train)).long()\n",
    "X_test = Variable(torch.from_numpy(X_test)).float()\n",
    "y_test = Variable(torch.from_numpy(Y_test)).long()\n",
    "print(f\"y_train's ndim: {y_train.ndim}\")\n",
    "\n",
    "smf_model = smf(X_train, y_train, hidden_size, device='cuda')\n",
    "smf_model.fit(num_epochs=10000,\n",
    "               lr_classification=0.01,\n",
    "               lr_matrix_factorization=0.01,\n",
    "               xi=1,\n",
    "               initialize='spectral',\n",
    "               W_nonnegativity=True,\n",
    "               H_nonnegativity=True,\n",
    "               test_data=[X_test, y_test],\n",
    "               record_recons_error=True)\n",
    "Accuracy.append(smf_model.test(X_test, y_test))"
   ]
  }
 ],
 "metadata": {
  "kernelspec": {
   "display_name": "REU2024",
   "language": "python",
   "name": "python3"
  },
  "language_info": {
   "codemirror_mode": {
    "name": "ipython",
    "version": 3
   },
   "file_extension": ".py",
   "mimetype": "text/x-python",
   "name": "python",
   "nbconvert_exporter": "python",
   "pygments_lexer": "ipython3",
   "version": "3.12.4"
  }
 },
 "nbformat": 4,
 "nbformat_minor": 5
}
