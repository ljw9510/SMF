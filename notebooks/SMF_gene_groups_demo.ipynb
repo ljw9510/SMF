{
 "cells": [
  {
   "cell_type": "code",
   "execution_count": 9,
   "id": "c7417f02-cf62-4634-9b9f-79055572b9b0",
   "metadata": {},
   "outputs": [],
   "source": [
    "import numpy as np\n",
    "import pandas as pd\n",
    "import matplotlib.pyplot as plt\n",
    "import seaborn as sns\n",
    "from sklearn.linear_model import LogisticRegression\n",
    "from sklearn.decomposition import PCA, TruncatedSVD\n",
    "from sklearn.model_selection import train_test_split\n",
    "import matplotlib.gridspec as gridspec\n",
    "\n",
    "import sys\n",
    "sys.path.append('../src')  # Go one level up and then into src\n",
    "from SMF import SMF_BCD, SMF_LPGD, rank_r_projection, compute_accuracy_metrics\n",
    "from SMF_torch import smf"
   ]
  },
  {
   "cell_type": "markdown",
   "id": "6983cd56",
   "metadata": {},
   "source": [
    "# Microarray Cancer Data"
   ]
  },
  {
   "cell_type": "markdown",
   "id": "5b6d8d06",
   "metadata": {},
   "source": [
    "## Read data"
   ]
  },
  {
   "cell_type": "code",
   "execution_count": 10,
   "id": "48679e2c",
   "metadata": {},
   "outputs": [
    {
     "name": "stdout",
     "output_type": "stream",
     "text": [
      "X.shape= (51, 54675)\n",
      "y.shape= (51,)\n"
     ]
    }
   ],
   "source": [
    "import pandas as pd\n",
    "import numpy as np\n",
    "from sklearn.model_selection import train_test_split\n",
    "import seaborn as sns\n",
    "sns.set_style(\"whitegrid\")\n",
    "\n",
    "#sys.path.append('../data')  # Go one level up and then into src\n",
    "\n",
    "\"\"\"\n",
    "data = pd.read_csv('../Data/Breast_GSE70947.csv')\n",
    "y = data['type'].values\n",
    "y = [1 if y[i] == 'breast_adenocarcinoma' else 0 for i in range(len(y))]\n",
    "X = data.drop(columns=['samples', 'type']).values\n",
    "X = (X - np.mean(X, axis = 0))/(100*np.std(X, axis = 0)) # normalization\n",
    "print(\"X.shape=\", X.shape)\n",
    "\n",
    "\"\"\"\n",
    "\n",
    "data = pd.read_csv('../Data/Pancreatic_GSE16515.csv')\n",
    "y = data['type'].values\n",
    "y = [1 if y[i] == 'tumoral' else 0 for i in range(len(y))]\n",
    "y = np.array(y)\n",
    "X0 = data.drop(columns=['samples', 'type']).values\n",
    "X = (X0 - np.mean(X0, axis = 0))/(100*np.std(X0, axis = 0)) # normalization\n",
    "#X = 10*X0/np.linalg.norm(X0)\n",
    "print(\"X.shape=\", X.shape) # X.shape = [num of samples, num of features]\n",
    "print(\"y.shape=\", y.shape)\n",
    "\n",
    "\n",
    "X_train, X_test, Y_train, Y_test = train_test_split(X, y, test_size=0.5, random_state=0)\n",
    "X_train, X_test = X_train.T, X_test.T\n",
    "Y_train, Y_test = np.asarray([Y_train]), np.asarray([Y_test])\n",
    "covariate_train, covariate_test = None, None\n",
    "\n",
    "gene_list0 = data.keys()\n",
    "gene_list = gene_list0[2:]"
   ]
  },
  {
   "cell_type": "markdown",
   "id": "f02c78df",
   "metadata": {},
   "source": [
    "## SMF-W"
   ]
  },
  {
   "cell_type": "markdown",
   "id": "21fe09d7",
   "metadata": {},
   "source": [
    "### Use Block Coordiante Descent to fit SMF-W"
   ]
  },
  {
   "cell_type": "code",
   "execution_count": 11,
   "id": "07d0e429",
   "metadata": {},
   "outputs": [
    {
     "name": "stdout",
     "output_type": "stream",
     "text": [
      "initial loading beta [[-0.38428877 -0.50518752  0.48957759]]\n"
     ]
    },
    {
     "name": "stderr",
     "output_type": "stream",
     "text": [
      "  1%|          | 1/100 [00:00<00:48,  2.04it/s]"
     ]
    },
    {
     "name": "stdout",
     "output_type": "stream",
     "text": [
      "--- Training --- [threshold, AUC] =  [0.742, 0.917]\n",
      "--- Iteration 0: Training loss --- [Data, Label, Total] = [94.627142.3, 10.487566.3, 105.114707.3]\n"
     ]
    },
    {
     "name": "stderr",
     "output_type": "stream",
     "text": [
      " 11%|█         | 11/100 [00:13<02:13,  1.49s/it]"
     ]
    },
    {
     "name": "stdout",
     "output_type": "stream",
     "text": [
      "--- Training --- [threshold, AUC] =  [0.643, 0.931]\n",
      "--- Iteration 10: Training loss --- [Data, Label, Total] = [89.148516.3, 9.347485.3, 98.496001.3]\n"
     ]
    },
    {
     "name": "stderr",
     "output_type": "stream",
     "text": [
      " 21%|██        | 21/100 [00:28<02:07,  1.61s/it]"
     ]
    },
    {
     "name": "stdout",
     "output_type": "stream",
     "text": [
      "--- Training --- [threshold, AUC] =  [0.642, 0.944]\n",
      "--- Iteration 20: Training loss --- [Data, Label, Total] = [89.373118.3, 8.823386.3, 98.196503.3]\n"
     ]
    },
    {
     "name": "stderr",
     "output_type": "stream",
     "text": [
      " 31%|███       | 31/100 [00:41<01:33,  1.36s/it]"
     ]
    },
    {
     "name": "stdout",
     "output_type": "stream",
     "text": [
      "--- Training --- [threshold, AUC] =  [0.566, 0.951]\n",
      "--- Iteration 30: Training loss --- [Data, Label, Total] = [89.537826.3, 8.465449.3, 98.003275.3]\n"
     ]
    },
    {
     "name": "stderr",
     "output_type": "stream",
     "text": [
      " 41%|████      | 41/100 [00:53<01:29,  1.51s/it]"
     ]
    },
    {
     "name": "stdout",
     "output_type": "stream",
     "text": [
      "--- Training --- [threshold, AUC] =  [0.567, 0.951]\n",
      "--- Iteration 40: Training loss --- [Data, Label, Total] = [89.659943.3, 8.209197.3, 97.869140.3]\n"
     ]
    },
    {
     "name": "stderr",
     "output_type": "stream",
     "text": [
      " 51%|█████     | 51/100 [01:04<01:01,  1.25s/it]"
     ]
    },
    {
     "name": "stdout",
     "output_type": "stream",
     "text": [
      "--- Training --- [threshold, AUC] =  [0.568, 0.951]\n",
      "--- Iteration 50: Training loss --- [Data, Label, Total] = [89.753197.3, 8.019019.3, 97.772216.3]\n"
     ]
    },
    {
     "name": "stderr",
     "output_type": "stream",
     "text": [
      " 61%|██████    | 61/100 [01:18<01:01,  1.58s/it]"
     ]
    },
    {
     "name": "stdout",
     "output_type": "stream",
     "text": [
      "--- Training --- [threshold, AUC] =  [0.569, 0.958]\n",
      "--- Iteration 60: Training loss --- [Data, Label, Total] = [89.826271.3, 7.873552.3, 97.699823.3]\n"
     ]
    },
    {
     "name": "stderr",
     "output_type": "stream",
     "text": [
      " 71%|███████   | 71/100 [01:33<00:41,  1.43s/it]"
     ]
    },
    {
     "name": "stdout",
     "output_type": "stream",
     "text": [
      "--- Training --- [threshold, AUC] =  [0.569, 0.958]\n",
      "--- Iteration 70: Training loss --- [Data, Label, Total] = [89.884772.3, 7.759366.3, 97.644138.3]\n"
     ]
    },
    {
     "name": "stderr",
     "output_type": "stream",
     "text": [
      " 81%|████████  | 81/100 [01:45<00:18,  1.05it/s]"
     ]
    },
    {
     "name": "stdout",
     "output_type": "stream",
     "text": [
      "--- Training --- [threshold, AUC] =  [0.57, 0.958]\n",
      "--- Iteration 80: Training loss --- [Data, Label, Total] = [89.932469.3, 7.669088.3, 97.601557.3]\n"
     ]
    },
    {
     "name": "stderr",
     "output_type": "stream",
     "text": [
      " 91%|█████████ | 91/100 [01:48<00:04,  1.98it/s]"
     ]
    },
    {
     "name": "stdout",
     "output_type": "stream",
     "text": [
      "--- Training --- [threshold, AUC] =  [0.57, 0.965]\n",
      "--- Iteration 90: Training loss --- [Data, Label, Total] = [89.971836.3, 7.594464.3, 97.566300.3]\n"
     ]
    },
    {
     "name": "stderr",
     "output_type": "stream",
     "text": [
      "100%|██████████| 100/100 [01:55<00:00,  1.16s/it]\n"
     ]
    },
    {
     "name": "stdout",
     "output_type": "stream",
     "text": [
      "!!! pred_type filter\n",
      "--- Training --- [threshold, AUC] =  [0.571, 0.965]\n"
     ]
    }
   ],
   "source": [
    "r = 2 # number of latent gene groups\n",
    "xi = 1 # supervision parameter (weight for the matrix factorization loss)\n",
    "iteration = 100\n",
    "\n",
    "\n",
    "U0, S0, H0, recons = rank_r_projection(X_train, r)\n",
    "W0 = U0 @ np.diag(S0) # initial filters = latent gene groups \n",
    "W0 = [W0, 1-2*np.random.rand(Y_train.shape[0], r + 1)] # initial filters + regression coefficients\n",
    "\n",
    "SMF_BCD_class = SMF_BCD(X=[X_train, Y_train],  # data, label\n",
    "                            X_test=[X_test, Y_test], \n",
    "                            n_components=r,  \n",
    "                            ini_loading=W0,  # Initializatio for [W,W'], W1.shape = [d1, r], W2.shape = [d2, r]\n",
    "                            # ini_loading=[W_true, np.hstack((np.array([[0]]), Beta_true))],\n",
    "                            ini_code = H0,\n",
    "                            xi=xi,  # weight on label reconstruction error\n",
    "                            nonnegativity=[False,False,False]) # nonnegativity constraints on code H, dictionary W[0], reg params W[1]\n",
    "\n",
    "results_dict = SMF_BCD_class.fit(iter=iteration, subsample_size=None,\n",
    "                                    option = \"filter\",\n",
    "                                    if_compute_recons_error=True, if_validate=False)\n",
    "\n",
    "results_dict.update({'method': 'SMF-W'})\n",
    "results_dict.update({'r': r})\n",
    "results_dict.update({'xi': xi})\n",
    "results_dict.update({'nu': None})"
   ]
  },
  {
   "cell_type": "code",
   "execution_count": 12,
   "id": "ae131b12",
   "metadata": {},
   "outputs": [
    {
     "data": {
      "image/png": "[encoded data removed]",
      "text/plain": [
       "<Figure size 400x400 with 1 Axes>"
      ]
     },
     "metadata": {},
     "output_type": "display_data"
    }
   ],
   "source": [
    "import matplotlib.patches as mpatches\n",
    "\n",
    "fig = plt.figure(figsize=[4,4], constrained_layout=False)\n",
    "outer_grid = gridspec.GridSpec(nrows=1, ncols=1, wspace=0, hspace=0)\n",
    "inner_grid = outer_grid[0,0].subgridspec(1, 1, wspace=0, hspace=0)\n",
    "ax = fig.add_subplot(inner_grid[0, 0])\n",
    "colors = [\"r\", \"b\"]\n",
    "\n",
    "W = results_dict.get(\"loading\")[0]\n",
    "Beta = results_dict.get(\"loading\")[1]\n",
    "X_comp = W.T @ X.T\n",
    "\n",
    "for i in np.arange(len(y)):\n",
    "    x1 = X_comp[0,i]\n",
    "    x2 = X_comp[1,i]\n",
    "    label = y[i]\n",
    "    \n",
    "    if label == 0:\n",
    "        ax.scatter(x1, x2, s=20, c=\"b\", alpha=1)\n",
    "    else:\n",
    "        ax.scatter(x1, x2, s=20, c=\"r\", alpha=1)\n",
    "        \n",
    "red_patch = mpatches.Patch(color='red', label='Cancer')\n",
    "blue_patch = mpatches.Patch(color='blue', label='Normal')\n",
    "ax.legend(handles=[red_patch, blue_patch])\n",
    "\n",
    "beta1 = np.round(Beta[0,1], 3)\n",
    "beta2 = np.round(Beta[0,2], 3)\n",
    "ax.set_xlabel(r\"Composite Var. #1 ($\\beta_{1}=$\"+str(beta1) + \")\")\n",
    "ax.set_ylabel(r\"Composite Var. #2 ($\\beta_{2}=$\"+str(beta2) + \")\")\n",
    "\n",
    "\n",
    "\n",
    "plt.savefig(\"plot1\", bbox_inches=\"tight\", dpi=300)"
   ]
  },
  {
   "cell_type": "code",
   "execution_count": 13,
   "id": "66f7822d",
   "metadata": {},
   "outputs": [
    {
     "name": "stdout",
     "output_type": "stream",
     "text": [
      "latent gene groups = \n",
      "[[-0.00236304  0.00683895]\n",
      " [-0.00316206  0.00223268]\n",
      " [-0.00299742  0.00655953]\n",
      " ...\n",
      " [ 0.00321243 -0.0016584 ]\n",
      " [ 0.00354569 -0.00116047]\n",
      " [ 0.00207613  0.00149535]]\n",
      "regression coefficients associated to the latent gene groups = [-1.0175061   1.77539587]\n",
      "intercept term = 0.8287273094168496\n"
     ]
    }
   ],
   "source": [
    "print(\"latent gene groups = \" + \"\\n\" + \"{}\".format(W))\n",
    "print(\"regression coefficients associated to the latent gene groups = {}\".format(Beta[0,1:]))\n",
    "print(\"intercept term = {}\".format(Beta[0,0]))"
   ]
  },
  {
   "cell_type": "markdown",
   "id": "c264babc",
   "metadata": {},
   "source": [
    "### Use Low-rank Projected Gradient Descent to fit SMF-W"
   ]
  },
  {
   "cell_type": "code",
   "execution_count": 6,
   "id": "4b51f2d5",
   "metadata": {},
   "outputs": [
    {
     "name": "stdout",
     "output_type": "stream",
     "text": [
      "initial loading beta [[-0.57119413 -0.54860458  0.01002814]]\n"
     ]
    },
    {
     "name": "stderr",
     "output_type": "stream",
     "text": [
      "100%|██████████| 100/100 [00:14<00:00,  6.85it/s]\n"
     ]
    },
    {
     "name": "stdout",
     "output_type": "stream",
     "text": [
      "!!! pred_type filter\n",
      "--- Training --- [threshold, AUC] =  [0.631, 0.938]\n",
      "!!! ACC_list [0.8846153846153846]\n",
      "--- Validation (filter) --- [threshold, AUC, accuracy, rel_error_data] = [0.536, 0.967, 0.885, 0.854]\n"
     ]
    }
   ],
   "source": [
    "r = 2 # number of latent gene groups\n",
    "xi = 1 # supervision parameter (weight for the matrix factorization loss)\n",
    "iteration = 100\n",
    "\n",
    "U0, S0, H0, recons = rank_r_projection(X_train, r)\n",
    "W0 = U0 @ np.diag(S0) # initial filters = latent gene groups \n",
    "W0 = [W0, 1-2*np.random.rand(Y_train.shape[0], r + 1)] # initial filters + regression coefficients\n",
    "\n",
    "SMF_LPGD_class = SMF_LPGD(X=[X_train, Y_train],  # data, label\n",
    "                        X_test=[X_test, Y_test],\n",
    "                        n_components=r,  # =: r = number of columns in dictionary matrices W, W'\n",
    "                        ini_loading = W0,  # Initializatio for [W,W'], W1.shape = [d1, r], W2.shape = [d2, r]\n",
    "                        # ini_loading=[W_true, np.hstack((np.array([[0]]), Beta_true))],\n",
    "                        ini_code = H0,\n",
    "                        xi=xi)  # weight on label reconstruction error\n",
    "                       \n",
    "\n",
    "results_dict = SMF_LPGD_class.fit(iter=iteration, \n",
    "                                    beta = 0,\n",
    "                                    nu = 0,\n",
    "                                    stepsize=0.01,\n",
    "                                    if_compute_recons_error=False, if_validate=False)\n",
    "\n",
    "results_dict.update({'method': 'SDL-W'})\n",
    "results_dict.update({'r': r})\n",
    "results_dict.update({'xi': xi})\n",
    "results_dict.update({'nu': None})"
   ]
  },
  {
   "cell_type": "code",
   "execution_count": null,
   "id": "ccebd0f4",
   "metadata": {},
   "outputs": [
    {
     "data": {
      "image/png": "[encoded data removed]",
      "text/plain": [
       "<Figure size 400x400 with 1 Axes>"
      ]
     },
     "metadata": {},
     "output_type": "display_data"
    }
   ],
   "source": [
    "import matplotlib.patches as mpatches\n",
    "\n",
    "fig = plt.figure(figsize=[4,4], constrained_layout=False)\n",
    "outer_grid = gridspec.GridSpec(nrows=1, ncols=1, wspace=0, hspace=0)\n",
    "inner_grid = outer_grid[0,0].subgridspec(1, 1, wspace=0, hspace=0)\n",
    "ax = fig.add_subplot(inner_grid[0, 0])\n",
    "colors = [\"r\", \"b\"]\n",
    "\n",
    "W = results_dict.get(\"loading\")[0]\n",
    "Beta = results_dict.get(\"loading\")[1]\n",
    "X_comp = W.T @ X.T\n",
    "\n",
    "for i in np.arange(len(y)):\n",
    "    x1 = X_comp[0,i]\n",
    "    x2 = X_comp[1,i]\n",
    "    label = y[i]\n",
    "    \n",
    "    if label == 0:\n",
    "        ax.scatter(x1, x2, s=20, c=\"b\", alpha=1)\n",
    "    else:\n",
    "        ax.scatter(x1, x2, s=20, c=\"r\", alpha=1)\n",
    "        \n",
    "red_patch = mpatches.Patch(color='red', label='Cancer')\n",
    "blue_patch = mpatches.Patch(color='blue', label='Normal')\n",
    "ax.legend(handles=[red_patch, blue_patch])\n",
    "\n",
    "beta1 = np.round(Beta[0,1], 3)\n",
    "beta2 = np.round(Beta[0,2], 3)\n",
    "ax.set_xlabel(r\"Composite Var. #1 ($\\beta_{1}=$\"+str(beta1) + \")\")\n",
    "ax.set_ylabel(r\"Composite Var. #2 ($\\beta_{2}=$\"+str(beta2) + \")\")\n",
    "\n",
    "\n",
    "\n",
    "plt.savefig(\"plot2\", bbox_inches=\"tight\", dpi=300)"
   ]
  },
  {
   "cell_type": "code",
   "execution_count": 7,
   "id": "99afc953",
   "metadata": {},
   "outputs": [
    {
     "name": "stdout",
     "output_type": "stream",
     "text": [
      "latent gene groups = \n",
      "[[-0.00254567  0.00672494]\n",
      " [-0.00325291  0.00215129]\n",
      " [-0.00317856  0.0064413 ]\n",
      " ...\n",
      " [ 0.00329134 -0.00158881]\n",
      " [ 0.00361755 -0.00108087]\n",
      " [ 0.00207202  0.00151883]]\n",
      "regression coefficients associated to the latent gene groups = [-1.05987627  1.74533091]\n",
      "intercept term = 0.8246190756711981\n"
     ]
    }
   ],
   "source": [
    "print(\"latent gene groups = \" + \"\\n\" + \"{}\".format(W))\n",
    "print(\"regression coefficients associated to the latent gene groups = {}\".format(Beta[0,1:]))\n",
    "print(\"intercept term = {}\".format(Beta[0,0]))"
   ]
  },
  {
   "cell_type": "markdown",
   "id": "d1de7c4e",
   "metadata": {},
   "source": [
    "### Use Pytorch implementation of BCD to fit SMF-W (utilizes GPU if possible)"
   ]
  },
  {
   "cell_type": "code",
   "execution_count": 8,
   "id": "f8853735",
   "metadata": {},
   "outputs": [
    {
     "name": "stdout",
     "output_type": "stream",
     "text": [
      "y_train's ndim: 1\n",
      "--- Training --- [threshold, AUC] =  [inf, 0.181]\n",
      "--- Iteration -1: Training loss --- [Data, Label, Total] = [80.222993.3, 18.785383.3, 99.008377.3]\n"
     ]
    },
    {
     "name": "stderr",
     "output_type": "stream",
     "text": [
      "/Users/yee/Code/SMF_BCD/SMF/notebooks/../src/SMF_torch.py:458: RuntimeWarning: invalid value encountered in scalar divide\n",
      "  precision = tp / (tp + fp)\n"
     ]
    },
    {
     "name": "stdout",
     "output_type": "stream",
     "text": [
      "Epoch [10/10000],Elapsed_time: 0.8612143993377686,Loss_Classification: 50.3742 Loss_MF: 0.0001\n",
      "mythre= inf\n",
      "mythre_test= 0.62241703\n",
      "Test accuracy = 0.231, Test AUC = 0.85\n",
      "--- Training --- [threshold, AUC] =  [0.696, 0.896]\n",
      "--- Iteration 9: Training loss --- [Data, Label, Total] = [98.350555.3, 12.145756.3, 110.496311.3]\n"
     ]
    },
    {
     "name": "stderr",
     "output_type": "stream",
     "text": [
      "/Users/yee/Code/SMF_BCD/SMF/notebooks/../src/SMF_torch.py:558: RuntimeWarning: invalid value encountered in scalar divide\n",
      "  precision = tp / (tp + fp)\n"
     ]
    },
    {
     "name": "stdout",
     "output_type": "stream",
     "text": [
      "Epoch [20/10000],Elapsed_time: 1.496537208557129,Loss_Classification: 50.3742 Loss_MF: 0.0001\n",
      "mythre= 0.6958463\n",
      "mythre_test= 0.62241703\n",
      "Test accuracy = 0.692, Test AUC = 0.85\n",
      "--- Training --- [threshold, AUC] =  [0.696, 0.896]\n",
      "--- Iteration 19: Training loss --- [Data, Label, Total] = [98.333040.3, 12.145756.3, 110.478796.3]\n",
      "Epoch [30/10000],Elapsed_time: 2.137324094772339,Loss_Classification: 50.3742 Loss_MF: 0.0001\n",
      "mythre= 0.6958463\n",
      "mythre_test= 0.62241703\n",
      "Test accuracy = 0.692, Test AUC = 0.85\n",
      "--- Training --- [threshold, AUC] =  [0.696, 0.896]\n",
      "--- Iteration 29: Training loss --- [Data, Label, Total] = [98.361091.3, 12.145756.3, 110.506847.3]\n",
      "Epoch [40/10000],Elapsed_time: 2.776041030883789,Loss_Classification: 50.3742 Loss_MF: 0.0001\n",
      "mythre= 0.6958463\n",
      "mythre_test= 0.62241703\n",
      "Test accuracy = 0.692, Test AUC = 0.85\n",
      "--- Training --- [threshold, AUC] =  [0.696, 0.896]\n",
      "--- Iteration 39: Training loss --- [Data, Label, Total] = [98.358632.3, 12.145756.3, 110.504388.3]\n",
      "Epoch [50/10000],Elapsed_time: 3.3930275440216064,Loss_Classification: 50.3742 Loss_MF: 0.0001\n",
      "mythre= 0.6958463\n",
      "mythre_test= 0.62241703\n",
      "Test accuracy = 0.692, Test AUC = 0.85\n",
      "--- Training --- [threshold, AUC] =  [0.696, 0.896]\n",
      "--- Iteration 49: Training loss --- [Data, Label, Total] = [98.334326.3, 12.145756.3, 110.480082.3]\n",
      "Epoch [60/10000],Elapsed_time: 4.2996766567230225,Loss_Classification: 50.3742 Loss_MF: 0.0001\n",
      "mythre= 0.6958463\n",
      "mythre_test= 0.62241703\n",
      "Test accuracy = 0.692, Test AUC = 0.85\n",
      "--- Training --- [threshold, AUC] =  [0.696, 0.896]\n",
      "--- Iteration 59: Training loss --- [Data, Label, Total] = [98.364723.3, 12.145756.3, 110.510479.3]\n",
      "Epoch [70/10000],Elapsed_time: 4.914920806884766,Loss_Classification: 50.3742 Loss_MF: 0.0001\n",
      "mythre= 0.6958463\n",
      "mythre_test= 0.62241703\n",
      "Test accuracy = 0.692, Test AUC = 0.85\n",
      "--- Training --- [threshold, AUC] =  [0.696, 0.896]\n",
      "--- Iteration 69: Training loss --- [Data, Label, Total] = [98.363153.3, 12.145756.3, 110.508909.3]\n",
      "Epoch [80/10000],Elapsed_time: 5.507743835449219,Loss_Classification: 50.3742 Loss_MF: 0.0001\n",
      "mythre= 0.6958463\n",
      "mythre_test= 0.62241703\n",
      "Test accuracy = 0.692, Test AUC = 0.85\n",
      "--- Training --- [threshold, AUC] =  [0.696, 0.896]\n",
      "--- Iteration 79: Training loss --- [Data, Label, Total] = [98.335442.3, 12.145756.3, 110.481198.3]\n",
      "Epoch [90/10000],Elapsed_time: 6.167296886444092,Loss_Classification: 50.3742 Loss_MF: 0.0001\n",
      "mythre= 0.6958463\n",
      "mythre_test= 0.62241703\n",
      "Test accuracy = 0.692, Test AUC = 0.85\n",
      "--- Training --- [threshold, AUC] =  [0.696, 0.896]\n",
      "--- Iteration 89: Training loss --- [Data, Label, Total] = [98.332548.3, 12.145756.3, 110.478304.3]\n",
      "Epoch [100/10000],Elapsed_time: 6.834307432174683,Loss_Classification: 50.3742 Loss_MF: 0.0001\n",
      "mythre= 0.6958463\n",
      "mythre_test= 0.62241703\n",
      "Test accuracy = 0.692, Test AUC = 0.85\n",
      "--- Training --- [threshold, AUC] =  [0.696, 0.896]\n",
      "--- Iteration 99: Training loss --- [Data, Label, Total] = [98.353960.3, 12.145756.3, 110.499715.3]\n",
      "Epoch [110/10000],Elapsed_time: 7.506117343902588,Loss_Classification: 50.3742 Loss_MF: 0.0001\n",
      "mythre= 0.6958463\n",
      "mythre_test= 0.62241703\n",
      "Test accuracy = 0.692, Test AUC = 0.85\n",
      "--- Training --- [threshold, AUC] =  [0.696, 0.896]\n",
      "--- Iteration 109: Training loss --- [Data, Label, Total] = [98.343594.3, 12.145756.3, 110.489350.3]\n",
      "Epoch [120/10000],Elapsed_time: 8.409151315689087,Loss_Classification: 50.3742 Loss_MF: 0.0001\n",
      "mythre= 0.6958463\n",
      "mythre_test= 0.62241703\n",
      "Test accuracy = 0.692, Test AUC = 0.85\n",
      "--- Training --- [threshold, AUC] =  [0.696, 0.896]\n",
      "--- Iteration 119: Training loss --- [Data, Label, Total] = [98.336993.3, 12.145756.3, 110.482749.3]\n"
     ]
    },
    {
     "ename": "KeyboardInterrupt",
     "evalue": "",
     "output_type": "error",
     "traceback": [
      "\u001b[0;31m---------------------------------------------------------------------------\u001b[0m",
      "\u001b[0;31mKeyboardInterrupt\u001b[0m                         Traceback (most recent call last)",
      "Cell \u001b[0;32mIn[8], line 33\u001b[0m\n\u001b[1;32m     30\u001b[0m \u001b[38;5;28mprint\u001b[39m(\u001b[38;5;124mf\u001b[39m\u001b[38;5;124m\"\u001b[39m\u001b[38;5;124my_train\u001b[39m\u001b[38;5;124m'\u001b[39m\u001b[38;5;124ms ndim: \u001b[39m\u001b[38;5;132;01m{\u001b[39;00my_train\u001b[38;5;241m.\u001b[39mndim\u001b[38;5;132;01m}\u001b[39;00m\u001b[38;5;124m\"\u001b[39m)\n\u001b[1;32m     32\u001b[0m smf_model \u001b[38;5;241m=\u001b[39m smf(X_train, y_train, hidden_size, device\u001b[38;5;241m=\u001b[39m\u001b[38;5;124m'\u001b[39m\u001b[38;5;124mcuda\u001b[39m\u001b[38;5;124m'\u001b[39m)\n\u001b[0;32m---> 33\u001b[0m \u001b[43msmf_model\u001b[49m\u001b[38;5;241;43m.\u001b[39;49m\u001b[43mfit\u001b[49m\u001b[43m(\u001b[49m\u001b[43mnum_epochs\u001b[49m\u001b[38;5;241;43m=\u001b[39;49m\u001b[38;5;241;43m10000\u001b[39;49m\u001b[43m,\u001b[49m\n\u001b[1;32m     34\u001b[0m \u001b[43m               \u001b[49m\u001b[43mlr_classification\u001b[49m\u001b[38;5;241;43m=\u001b[39;49m\u001b[38;5;241;43m0.01\u001b[39;49m\u001b[43m,\u001b[49m\n\u001b[1;32m     35\u001b[0m \u001b[43m               \u001b[49m\u001b[43mlr_matrix_factorization\u001b[49m\u001b[38;5;241;43m=\u001b[39;49m\u001b[38;5;241;43m0.01\u001b[39;49m\u001b[43m,\u001b[49m\n\u001b[1;32m     36\u001b[0m \u001b[43m               \u001b[49m\u001b[43mxi\u001b[49m\u001b[38;5;241;43m=\u001b[39;49m\u001b[38;5;241;43m1\u001b[39;49m\u001b[43m,\u001b[49m\n\u001b[1;32m     37\u001b[0m \u001b[43m               \u001b[49m\u001b[43minitialize\u001b[49m\u001b[38;5;241;43m=\u001b[39;49m\u001b[38;5;124;43m'\u001b[39;49m\u001b[38;5;124;43mspectral\u001b[39;49m\u001b[38;5;124;43m'\u001b[39;49m\u001b[43m,\u001b[49m\n\u001b[1;32m     38\u001b[0m \u001b[43m               \u001b[49m\u001b[43mW_nonnegativity\u001b[49m\u001b[38;5;241;43m=\u001b[39;49m\u001b[38;5;28;43;01mTrue\u001b[39;49;00m\u001b[43m,\u001b[49m\n\u001b[1;32m     39\u001b[0m \u001b[43m               \u001b[49m\u001b[43mH_nonnegativity\u001b[49m\u001b[38;5;241;43m=\u001b[39;49m\u001b[38;5;28;43;01mTrue\u001b[39;49;00m\u001b[43m,\u001b[49m\n\u001b[1;32m     40\u001b[0m \u001b[43m               \u001b[49m\u001b[43mtest_data\u001b[49m\u001b[38;5;241;43m=\u001b[39;49m\u001b[43m[\u001b[49m\u001b[43mX_test\u001b[49m\u001b[43m,\u001b[49m\u001b[43m \u001b[49m\u001b[43my_test\u001b[49m\u001b[43m]\u001b[49m\u001b[43m,\u001b[49m\n\u001b[1;32m     41\u001b[0m \u001b[43m               \u001b[49m\u001b[43mrecord_recons_error\u001b[49m\u001b[38;5;241;43m=\u001b[39;49m\u001b[38;5;28;43;01mTrue\u001b[39;49;00m\u001b[43m)\u001b[49m\n\u001b[1;32m     42\u001b[0m Accuracy\u001b[38;5;241m.\u001b[39mappend(smf_model\u001b[38;5;241m.\u001b[39mtest(X_test, y_test))\n",
      "File \u001b[0;32m~/Code/SMF_BCD/SMF/notebooks/../src/SMF_torch.py:357\u001b[0m, in \u001b[0;36msmf.fit\u001b[0;34m(self, num_epochs, lr_classification, lr_matrix_factorization, xi, ini_loading, ini_code, initialize, W_nonnegativity, H_nonnegativity, test_data, record_recons_error, threshold)\u001b[0m\n\u001b[1;32m    355\u001b[0m X_hat1 \u001b[38;5;241m=\u001b[39m \u001b[38;5;28mself\u001b[39m\u001b[38;5;241m.\u001b[39mmodel_MF_H(common_W)\n\u001b[1;32m    356\u001b[0m loss_MF_H \u001b[38;5;241m=\u001b[39m criterion_MF_H(X_hat1, \u001b[38;5;28mself\u001b[39m\u001b[38;5;241m.\u001b[39mX_train\u001b[38;5;241m.\u001b[39mT)\n\u001b[0;32m--> 357\u001b[0m \u001b[43mloss_MF_H\u001b[49m\u001b[38;5;241;43m.\u001b[39;49m\u001b[43mbackward\u001b[49m\u001b[43m(\u001b[49m\u001b[43mretain_graph\u001b[49m\u001b[38;5;241;43m=\u001b[39;49m\u001b[38;5;28;43;01mTrue\u001b[39;49;00m\u001b[43m)\u001b[49m\n\u001b[1;32m    358\u001b[0m optimizer_MF_H\u001b[38;5;241m.\u001b[39mstep()\n\u001b[1;32m    360\u001b[0m \u001b[38;5;28;01mif\u001b[39;00m H_nonnegativity:\n",
      "File \u001b[0;32m~/miniforge3/envs/REU2024/lib/python3.12/site-packages/torch/_tensor.py:525\u001b[0m, in \u001b[0;36mTensor.backward\u001b[0;34m(self, gradient, retain_graph, create_graph, inputs)\u001b[0m\n\u001b[1;32m    515\u001b[0m \u001b[38;5;28;01mif\u001b[39;00m has_torch_function_unary(\u001b[38;5;28mself\u001b[39m):\n\u001b[1;32m    516\u001b[0m     \u001b[38;5;28;01mreturn\u001b[39;00m handle_torch_function(\n\u001b[1;32m    517\u001b[0m         Tensor\u001b[38;5;241m.\u001b[39mbackward,\n\u001b[1;32m    518\u001b[0m         (\u001b[38;5;28mself\u001b[39m,),\n\u001b[0;32m   (...)\u001b[0m\n\u001b[1;32m    523\u001b[0m         inputs\u001b[38;5;241m=\u001b[39minputs,\n\u001b[1;32m    524\u001b[0m     )\n\u001b[0;32m--> 525\u001b[0m \u001b[43mtorch\u001b[49m\u001b[38;5;241;43m.\u001b[39;49m\u001b[43mautograd\u001b[49m\u001b[38;5;241;43m.\u001b[39;49m\u001b[43mbackward\u001b[49m\u001b[43m(\u001b[49m\n\u001b[1;32m    526\u001b[0m \u001b[43m    \u001b[49m\u001b[38;5;28;43mself\u001b[39;49m\u001b[43m,\u001b[49m\u001b[43m \u001b[49m\u001b[43mgradient\u001b[49m\u001b[43m,\u001b[49m\u001b[43m \u001b[49m\u001b[43mretain_graph\u001b[49m\u001b[43m,\u001b[49m\u001b[43m \u001b[49m\u001b[43mcreate_graph\u001b[49m\u001b[43m,\u001b[49m\u001b[43m \u001b[49m\u001b[43minputs\u001b[49m\u001b[38;5;241;43m=\u001b[39;49m\u001b[43minputs\u001b[49m\n\u001b[1;32m    527\u001b[0m \u001b[43m\u001b[49m\u001b[43m)\u001b[49m\n",
      "File \u001b[0;32m~/miniforge3/envs/REU2024/lib/python3.12/site-packages/torch/autograd/__init__.py:267\u001b[0m, in \u001b[0;36mbackward\u001b[0;34m(tensors, grad_tensors, retain_graph, create_graph, grad_variables, inputs)\u001b[0m\n\u001b[1;32m    262\u001b[0m     retain_graph \u001b[38;5;241m=\u001b[39m create_graph\n\u001b[1;32m    264\u001b[0m \u001b[38;5;66;03m# The reason we repeat the same comment below is that\u001b[39;00m\n\u001b[1;32m    265\u001b[0m \u001b[38;5;66;03m# some Python versions print out the first line of a multi-line function\u001b[39;00m\n\u001b[1;32m    266\u001b[0m \u001b[38;5;66;03m# calls in the traceback and some print out the last line\u001b[39;00m\n\u001b[0;32m--> 267\u001b[0m \u001b[43m_engine_run_backward\u001b[49m\u001b[43m(\u001b[49m\n\u001b[1;32m    268\u001b[0m \u001b[43m    \u001b[49m\u001b[43mtensors\u001b[49m\u001b[43m,\u001b[49m\n\u001b[1;32m    269\u001b[0m \u001b[43m    \u001b[49m\u001b[43mgrad_tensors_\u001b[49m\u001b[43m,\u001b[49m\n\u001b[1;32m    270\u001b[0m \u001b[43m    \u001b[49m\u001b[43mretain_graph\u001b[49m\u001b[43m,\u001b[49m\n\u001b[1;32m    271\u001b[0m \u001b[43m    \u001b[49m\u001b[43mcreate_graph\u001b[49m\u001b[43m,\u001b[49m\n\u001b[1;32m    272\u001b[0m \u001b[43m    \u001b[49m\u001b[43minputs\u001b[49m\u001b[43m,\u001b[49m\n\u001b[1;32m    273\u001b[0m \u001b[43m    \u001b[49m\u001b[43mallow_unreachable\u001b[49m\u001b[38;5;241;43m=\u001b[39;49m\u001b[38;5;28;43;01mTrue\u001b[39;49;00m\u001b[43m,\u001b[49m\n\u001b[1;32m    274\u001b[0m \u001b[43m    \u001b[49m\u001b[43maccumulate_grad\u001b[49m\u001b[38;5;241;43m=\u001b[39;49m\u001b[38;5;28;43;01mTrue\u001b[39;49;00m\u001b[43m,\u001b[49m\n\u001b[1;32m    275\u001b[0m \u001b[43m\u001b[49m\u001b[43m)\u001b[49m\n",
      "File \u001b[0;32m~/miniforge3/envs/REU2024/lib/python3.12/site-packages/torch/autograd/graph.py:744\u001b[0m, in \u001b[0;36m_engine_run_backward\u001b[0;34m(t_outputs, *args, **kwargs)\u001b[0m\n\u001b[1;32m    742\u001b[0m     unregister_hooks \u001b[38;5;241m=\u001b[39m _register_logging_hooks_on_whole_graph(t_outputs)\n\u001b[1;32m    743\u001b[0m \u001b[38;5;28;01mtry\u001b[39;00m:\n\u001b[0;32m--> 744\u001b[0m     \u001b[38;5;28;01mreturn\u001b[39;00m \u001b[43mVariable\u001b[49m\u001b[38;5;241;43m.\u001b[39;49m\u001b[43m_execution_engine\u001b[49m\u001b[38;5;241;43m.\u001b[39;49m\u001b[43mrun_backward\u001b[49m\u001b[43m(\u001b[49m\u001b[43m  \u001b[49m\u001b[38;5;66;43;03m# Calls into the C++ engine to run the backward pass\u001b[39;49;00m\n\u001b[1;32m    745\u001b[0m \u001b[43m        \u001b[49m\u001b[43mt_outputs\u001b[49m\u001b[43m,\u001b[49m\u001b[43m \u001b[49m\u001b[38;5;241;43m*\u001b[39;49m\u001b[43margs\u001b[49m\u001b[43m,\u001b[49m\u001b[43m \u001b[49m\u001b[38;5;241;43m*\u001b[39;49m\u001b[38;5;241;43m*\u001b[39;49m\u001b[43mkwargs\u001b[49m\n\u001b[1;32m    746\u001b[0m \u001b[43m    \u001b[49m\u001b[43m)\u001b[49m  \u001b[38;5;66;03m# Calls into the C++ engine to run the backward pass\u001b[39;00m\n\u001b[1;32m    747\u001b[0m \u001b[38;5;28;01mfinally\u001b[39;00m:\n\u001b[1;32m    748\u001b[0m     \u001b[38;5;28;01mif\u001b[39;00m attach_logging_hooks:\n",
      "\u001b[0;31mKeyboardInterrupt\u001b[0m: "
     ]
    }
   ],
   "source": [
    "from sklearn.model_selection import train_test_split\n",
    "import numpy as np\n",
    "import torch\n",
    "from torch.autograd import Variable\n",
    "\n",
    "\"\"\"\n",
    "#data = pd.read_csv('../Data/Pancreatic_GSE16515.csv')\n",
    "data = pd.read_csv('../Data/Breast_GSE70947.csv')\n",
    "\n",
    "print(data.shape)\n",
    "y = data['type'].values\n",
    "y = [1 if y[i] == 'breast_adenocarcinoma' else 0 for i in range(len(y))]\n",
    "y = np.array(y)\n",
    "X = data.drop(columns=['samples', 'type']).values\n",
    "X = (X - np.mean(X, axis = 0))/(100*np.std(X, axis = 0)) # normalization\n",
    "\"\"\"\n",
    "\n",
    "\n",
    "hidden_size = 2\n",
    "\n",
    "Accuracy = []\n",
    "test_size = 0.5\n",
    "\n",
    "X_train, X_test, Y_train, Y_test = train_test_split(X, y, test_size=test_size, random_state=2)\n",
    "\n",
    "X_train = Variable(torch.from_numpy(X_train)).float()\n",
    "y_train = Variable(torch.from_numpy(Y_train)).long()\n",
    "X_test = Variable(torch.from_numpy(X_test)).float()\n",
    "y_test = Variable(torch.from_numpy(Y_test)).long()\n",
    "print(f\"y_train's ndim: {y_train.ndim}\")\n",
    "\n",
    "smf_model = smf(X_train, y_train, hidden_size, device='cuda')\n",
    "smf_model.fit(num_epochs=10000,\n",
    "               lr_classification=0.01,\n",
    "               lr_matrix_factorization=0.01,\n",
    "               xi=1,\n",
    "               initialize='spectral',\n",
    "               W_nonnegativity=True,\n",
    "               H_nonnegativity=True,\n",
    "               test_data=[X_test, y_test],\n",
    "               record_recons_error=True)\n",
    "Accuracy.append(smf_model.test(X_test, y_test))"
   ]
  }
 ],
 "metadata": {
  "kernelspec": {
   "display_name": "REU2024",
   "language": "python",
   "name": "python3"
  },
  "language_info": {
   "codemirror_mode": {
    "name": "ipython",
    "version": 3
   },
   "file_extension": ".py",
   "mimetype": "text/x-python",
   "name": "python",
   "nbconvert_exporter": "python",
   "pygments_lexer": "ipython3",
   "version": "3.12.4"
  }
 },
 "nbformat": 4,
 "nbformat_minor": 5
}
